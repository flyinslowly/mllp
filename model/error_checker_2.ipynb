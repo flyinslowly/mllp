{
 "cells": [
  {
   "cell_type": "code",
   "execution_count": null,
   "metadata": {
    "collapsed": true
   },
   "outputs": [],
   "source": [
    "import sys  \n",
    "sys.path.insert(0, '../')"
   ]
  },
  {
   "cell_type": "code",
   "execution_count": null,
   "metadata": {},
   "outputs": [],
   "source": [
    "import os\n",
    "import numpy as np\n",
    "import GPyOpt\n",
    "from feature_extraction.loan_struct_reader import LoanStructReader\n",
    "from feature_extraction.loan_options_maker import LoanOptionsMaker\n",
    "from feature_extraction.loan_concatenator import LoanConcatenator\n",
    "from feature_extraction.loan_markuper import LoanMarkuper\n",
    "from feature_extraction.hist_market_worker import HistMarketDataWorker\n",
    "\n",
    "from scipy.stats.contingency import margins\n",
    "import matplotlib.pyplot as plt\n",
    "import scipy.stats as ss\n",
    "import math"
   ]
  },
  {
   "cell_type": "code",
   "execution_count": null,
   "metadata": {
    "collapsed": true
   },
   "outputs": [],
   "source": [
    "plt.rcParams[\"axes.labelsize\"] = 16. \n",
    "plt.rcParams[\"xtick.labelsize\"] = 14. \n",
    "plt.rcParams[\"ytick.labelsize\"] = 14. \n",
    "plt.rcParams[\"legend.fontsize\"] = 12. \n",
    "plt.rcParams[\"figure.figsize\"] = [15., 6.]"
   ]
  },
  {
   "cell_type": "code",
   "execution_count": null,
   "metadata": {
    "collapsed": true
   },
   "outputs": [],
   "source": [
    "PROJECT_PATH = os.path.dirname(os.getcwd())\n",
    "DOMAIN = [{'name': 'var_1', 'type': 'continuous', 'domain': (0, 2)},\n",
    "          {'name': 'var_2', 'type': 'continuous', 'domain': (0, 2)},\n",
    "          {'name': 'var_3', 'type': 'continuous', 'domain': (0, 2)},\n",
    "          {'name': 'var_4', 'type': 'continuous', 'domain': (0, 2)},\n",
    "          {'name': 'var_5', 'type': 'continuous', 'domain': (0, 2)},\n",
    "          {'name': 'var_6', 'type': 'continuous', 'domain': (0, 2)},\n",
    "          {'name': 'var_7', 'type': 'continuous', 'domain': (0, 2)},\n",
    "          {'name': 'var_8', 'type': 'continuous', 'domain': (0, 2)},\n",
    "          {'name': 'var_9', 'type': 'continuous', 'domain': (0, 2)},\n",
    "          {'name': 'var_10', 'type': 'continuous', 'domain': (0, 2)}]\n",
    "\n",
    "DOMAIN_1 = {'name': 'var_1', 'type': 'continuous', 'domain':(0, 1), 'dimensionality':10}"
   ]
  },
  {
   "cell_type": "code",
   "execution_count": null,
   "metadata": {
    "collapsed": true
   },
   "outputs": [],
   "source": [
    "def f(X, json_example_path=os.path.join(PROJECT_PATH, r\"json_real\", r\"sample_1.json\")):\n",
    "    \"It should take 2-dimensional numpy arrays as input and return 2-dimensional outputs (one evaluation per row)\"\n",
    "    Y = []\n",
    "    for x in X:\n",
    "        struct, original_options = LoanStructReader().Read(json_example_path, returnOptions=True)\n",
    "        options = LoanOptionsMaker().Make(original_options, ir_curve=x)\n",
    "\n",
    "        loan = LoanConcatenator(struct, options, {}).Parse()\n",
    "        Y.append([LoanMarkuper().MarkupLoan(loan)])\n",
    "    return np.array(Y)"
   ]
  },
  {
   "cell_type": "code",
   "execution_count": null,
   "metadata": {},
   "outputs": [],
   "source": [
    "f([[10,1,1.9,-1,-1,1,1,1,14,1]])"
   ]
  },
  {
   "cell_type": "markdown",
   "metadata": {},
   "source": [
    "-----------\n",
    "### Test on empirical observations"
   ]
  },
  {
   "cell_type": "code",
   "execution_count": null,
   "metadata": {
    "collapsed": true
   },
   "outputs": [],
   "source": [
    "mu = np.array([0.999791,  0.99853703,  0.99374632,  0.98132504,  0.96271221,\n",
    "        0.92621573,  0.85829915,  0.67985138,  0.4574298,  0.45154276])\n",
    "cov = np.cov(np.random.rand(10,10))"
   ]
  },
  {
   "cell_type": "code",
   "execution_count": null,
   "metadata": {
    "collapsed": true
   },
   "outputs": [],
   "source": [
    "hmdw = HistMarketDataWorker().load()"
   ]
  },
  {
   "cell_type": "code",
   "execution_count": null,
   "metadata": {
    "collapsed": true
   },
   "outputs": [],
   "source": [
    "normal_dist_1 = ss.multivariate_normal(mean=hmdw.get_func().mean, cov=hmdw.get_func().cov, allow_singular=True)\n",
    "normal_dist_2 = ss.multivariate_normal(mean=hmdw.get_func().mean, cov=cov, allow_singular=True)\n",
    "rho_foo_1 = lambda X: np.array([[normal_dist_1.pdf(x)] for x in X])"
   ]
  },
  {
   "cell_type": "code",
   "execution_count": null,
   "metadata": {},
   "outputs": [],
   "source": [
    "hmdw.get_func().cov"
   ]
  },
  {
   "cell_type": "markdown",
   "metadata": {},
   "source": [
    "---------"
   ]
  },
  {
   "cell_type": "code",
   "execution_count": null,
   "metadata": {},
   "outputs": [],
   "source": [
    "X_init = np.array(np.ones(HistMarketDataWorker().load().get_sample().shape).reshape(1, -1))\n",
    "print(X_init.shape)\n",
    "Y_init = f(X_init)\n",
    "print(Y_init)\n",
    "\n",
    "bo = GPyOpt.methods.BayesianOptimization(f=f, domain=DOMAIN,\n",
    "                                        initial_design_numdata = 5,\n",
    "                                        X=X_init, Y=Y_init,\n",
    "                                        acquisition_type='LCB',\n",
    "                                        exact_feval = True,\n",
    "                                        normalize_Y = False,\n",
    "                                        optimize_restarts = 10,\n",
    "                                        acquisition_weight = 2,\n",
    "                                        de_duplication = True)\n",
    "                                        #rho_func = rho_foo_1, #hmdw.rho_normal,\n",
    "                                        #exploration_weight=1000,\n",
    "                                        #with_noise=False)\n",
    "\n",
    "X_test = []\n",
    "for i in range(20):\n",
    "    X_test.append(hmdw.get_sample())\n",
    "X_test = np.array(X_test)\n",
    "\n",
    "bo.run_optimization(30)#, test_X = X_test)\n",
    "print('evaluations_list: ', bo.get_evaluations())\n",
    "\n",
    "print('test_sample_values:')\n",
    "predict = bo.model.predict(X_test)\n",
    "print('\\mu_values: ', predict[0])\n",
    "print('\\sigma_values: ', predict[1])\n",
    "print('MAE: ', np.mean(predict[1] / predict[0]))\n",
    "#print('MAE_list: ', bo.error_list)"
   ]
  },
  {
   "cell_type": "code",
   "execution_count": null,
   "metadata": {
    "collapsed": true
   },
   "outputs": [],
   "source": [
    "bo.model.predict(np.array([[1, 1, 0.5, 0.5, 1, 1, 1, 1, 1, 0.33]]))"
   ]
  },
  {
   "cell_type": "code",
   "execution_count": null,
   "metadata": {
    "collapsed": true
   },
   "outputs": [],
   "source": [
    "X_test[0]"
   ]
  },
  {
   "cell_type": "code",
   "execution_count": null,
   "metadata": {
    "collapsed": true
   },
   "outputs": [],
   "source": [
    "bo.model.predict(X_test[0])"
   ]
  },
  {
   "cell_type": "markdown",
   "metadata": {},
   "source": [
    "-----------\n",
    "### Check statistics from X_test"
   ]
  },
  {
   "cell_type": "code",
   "execution_count": null,
   "metadata": {
    "collapsed": true
   },
   "outputs": [],
   "source": [
    "X_test = []\n",
    "for i in range(20000):\n",
    "    X_test.append(hmdw.get_sample())\n",
    "X_test = np.array(X_test)"
   ]
  },
  {
   "cell_type": "code",
   "execution_count": null,
   "metadata": {
    "collapsed": true
   },
   "outputs": [],
   "source": [
    "X_test"
   ]
  },
  {
   "cell_type": "code",
   "execution_count": null,
   "metadata": {
    "collapsed": true
   },
   "outputs": [],
   "source": [
    "mean_values = np.mean(np.transpose(X_test), 1)\n",
    "mean_values"
   ]
  },
  {
   "cell_type": "code",
   "execution_count": null,
   "metadata": {
    "collapsed": true
   },
   "outputs": [],
   "source": [
    "np.std(np.transpose(X_test), 1)"
   ]
  },
  {
   "cell_type": "markdown",
   "metadata": {},
   "source": [
    "------------"
   ]
  },
  {
   "cell_type": "code",
   "execution_count": null,
   "metadata": {
    "collapsed": true
   },
   "outputs": [],
   "source": [
    "a1 = bo.error_list[1:]\n",
    "b1 = bo.test_error_list[1:]"
   ]
  },
  {
   "cell_type": "code",
   "execution_count": null,
   "metadata": {
    "collapsed": true
   },
   "outputs": [],
   "source": [
    "plt.plot(a1, label = 'train_MAE')\n",
    "plt.plot(b1, label = 'model_MAE')\n",
    "#plt.plot([np.mean(predict[1] / predict[0]) for _ in range(len(bo.error_list)-1)], color = 'red', label = 'test_MAE')\n",
    "plt.legend()\n",
    "plt.show()"
   ]
  },
  {
   "cell_type": "code",
   "execution_count": null,
   "metadata": {
    "collapsed": true
   },
   "outputs": [],
   "source": [
    "plt.plot(np.diff(bo.test_error_list[1:])[20:])\n",
    "print('maximum_diff: ', max(np.diff(bo.test_error_list[1:])[20:]))\n",
    "plt.show()"
   ]
  },
  {
   "cell_type": "code",
   "execution_count": null,
   "metadata": {
    "collapsed": true
   },
   "outputs": [],
   "source": [
    "np.std(np.transpose(X_test)[0])"
   ]
  },
  {
   "cell_type": "code",
   "execution_count": null,
   "metadata": {
    "collapsed": true
   },
   "outputs": [],
   "source": [
    "rho = lambda x: ss.norm.pdf(x, loc = np.mean(np.transpose(X_test)[0]), scale = np.sqrt(hmdw.get_func().cov[0][0]))\n",
    "\n",
    "x = np.linspace(0.9997, 0.9999, 10000)\n",
    "plt.plot(x, rho(x), 'k-', lw=2, label='frozen pdf')\n",
    "plt.hist(np.transpose(X_test)[0], bins = 30, normed = True)\n",
    "plt.grid()\n",
    "plt.title('first argument distribution')\n",
    "plt.show()"
   ]
  },
  {
   "cell_type": "code",
   "execution_count": null,
   "metadata": {
    "collapsed": true
   },
   "outputs": [],
   "source": [
    "rho = lambda x: ss.norm.pdf(x, loc = np.mean(np.transpose(X_test)[1]), scale = np.sqrt(hmdw.get_func().cov[1][1]))\n",
    "\n",
    "x = np.linspace(0.9984, 0.9988, 10000)\n",
    "plt.plot(x, rho(x), 'k-', lw=2, label='frozen pdf')\n",
    "plt.hist(np.transpose(X_test)[1], bins = 30, normed = True)\n",
    "plt.grid()\n",
    "plt.title('first argument distribution')\n",
    "plt.show()"
   ]
  },
  {
   "cell_type": "code",
   "execution_count": null,
   "metadata": {
    "collapsed": true
   },
   "outputs": [],
   "source": [
    "rho = lambda x: ss.norm.pdf(x, loc = np.mean(np.transpose(X_test)[-1]), scale = np.sqrt(hmdw.get_func().cov[-1][-1]))\n",
    "\n",
    "x = np.linspace(0.4, 0.5, 10000)\n",
    "plt.plot(x, rho(x), 'k-', lw=2, label='frozen pdf')\n",
    "plt.hist(np.transpose(X_test)[-1], bins = 30, normed = True)\n",
    "plt.grid()\n",
    "plt.title('last argument distribution')\n",
    "plt.show()"
   ]
  },
  {
   "cell_type": "code",
   "execution_count": null,
   "metadata": {
    "collapsed": true
   },
   "outputs": [],
   "source": [
    "hmdw.get_func().cov[0][0]*1e7"
   ]
  },
  {
   "cell_type": "markdown",
   "metadata": {},
   "source": [
    "### Check data on test points\n",
    "---------------"
   ]
  },
  {
   "cell_type": "code",
   "execution_count": null,
   "metadata": {
    "collapsed": true
   },
   "outputs": [],
   "source": [
    "vals = bo.get_evaluations()\n",
    "X = vals[0]\n",
    "y = [k[0] for k in vals[1]]"
   ]
  },
  {
   "cell_type": "code",
   "execution_count": null,
   "metadata": {
    "collapsed": true
   },
   "outputs": [],
   "source": [
    "plt.hist(X.T[0], bins = 40, label = \"First_argument\")\n",
    "plt.axvline(mean_values[0], color = 'red', label = 'mean_test_value')\n",
    "plt.legend()\n",
    "plt.show()"
   ]
  },
  {
   "cell_type": "code",
   "execution_count": null,
   "metadata": {
    "collapsed": true
   },
   "outputs": [],
   "source": [
    "plt.hist(X.T[1], bins = 40, label = \"Second_argument\")\n",
    "plt.axvline(mean_values[1], color = 'red', label = 'mean_test_value')\n",
    "plt.legend()\n",
    "plt.show()"
   ]
  },
  {
   "cell_type": "code",
   "execution_count": null,
   "metadata": {
    "collapsed": true
   },
   "outputs": [],
   "source": [
    "plt.hist(X.T[2], bins = 40, label = \"Third_argument\")\n",
    "plt.axvline(mean_values[2], color = 'red', label = 'mean_test_value')\n",
    "plt.legend()\n",
    "plt.show()"
   ]
  },
  {
   "cell_type": "code",
   "execution_count": null,
   "metadata": {
    "collapsed": true
   },
   "outputs": [],
   "source": [
    "plt.hist(X.T[3], bins = 40, label = \"Fourth_argument\")\n",
    "plt.axvline(mean_values[3], color = 'red', label = 'mean_test_value')\n",
    "plt.legend()\n",
    "plt.show()"
   ]
  },
  {
   "cell_type": "code",
   "execution_count": null,
   "metadata": {
    "collapsed": true
   },
   "outputs": [],
   "source": [
    "plt.hist(X.T[-1], bins = 40, label = \"Last_argument\")\n",
    "plt.axvline(mean_values[-1], color = 'red', label = 'mean_test_value')\n",
    "plt.legend()\n",
    "plt.show()"
   ]
  },
  {
   "cell_type": "markdown",
   "metadata": {},
   "source": [
    "----------\n",
    "### Lets look at the histogram of the avaliable values relative to the theoretical distribution for the model covariance matrix"
   ]
  },
  {
   "cell_type": "code",
   "execution_count": null,
   "metadata": {
    "collapsed": true
   },
   "outputs": [],
   "source": [
    "plt.plot(np.arange(0,1, 0.0001), np.array(bo.sigma_arr)[2])\n",
    "plt.title('sigma_array')\n",
    "plt.show()"
   ]
  },
  {
   "cell_type": "markdown",
   "metadata": {},
   "source": [
    "--------------\n",
    "#### Get sigma arrays"
   ]
  },
  {
   "cell_type": "code",
   "execution_count": null,
   "metadata": {
    "collapsed": true
   },
   "outputs": [],
   "source": [
    "for k in range(10):\n",
    "    plt.plot(np.arange(0,1, 0.0001), np.array(bo.sigma_arr)[k], label = 'sigma_'+str(k))\n",
    "plt.title('sigma_arrays')\n",
    "plt.legend()\n",
    "plt.show()"
   ]
  },
  {
   "cell_type": "markdown",
   "metadata": {},
   "source": [
    "-------------"
   ]
  },
  {
   "cell_type": "code",
   "execution_count": null,
   "metadata": {
    "collapsed": true
   },
   "outputs": [],
   "source": [
    "get_prob_arr = lambda k: ss.norm.pdf(x = np.linspace(0,1,10000), loc = hmdw.get_func().mean[k], scale = np.sqrt(hmdw.get_func().cov[k][k]))\n",
    "marginal_dist = margins(np.array([get_prob_arr(i) for i in range(10)]))[1]"
   ]
  },
  {
   "cell_type": "code",
   "execution_count": null,
   "metadata": {
    "collapsed": true
   },
   "outputs": [],
   "source": [
    "rho_arr = ss.norm.pdf(x = np.arange(0,1,0.0001), loc = hmdw.get_func().mean[-1], scale = np.sqrt(hmdw.get_func().cov[-1][-1]))\n",
    "arr = np.array([np.arange(0,1,0.0001) for _ in range(10)])\n",
    "mass = rho_foo_1(arr.T)"
   ]
  },
  {
   "cell_type": "code",
   "execution_count": null,
   "metadata": {
    "collapsed": true
   },
   "outputs": [],
   "source": [
    "for k in range(np.array(bo.sigma_arr).shape[0]):\n",
    "    plt.plot(np.arange(0,1,0.0001), np.array(bo.sigma_arr)[k].reshape(-1)*rho_arr)\n",
    "    plt.axvline(X.T[0][1:][k])\n",
    "    plt.show()"
   ]
  },
  {
   "cell_type": "code",
   "execution_count": null,
   "metadata": {
    "collapsed": true
   },
   "outputs": [],
   "source": [
    "bo.sigma_arr"
   ]
  },
  {
   "cell_type": "code",
   "execution_count": null,
   "metadata": {
    "collapsed": true
   },
   "outputs": [],
   "source": [
    "for k in range(np.array(bo.sigma_arr).shape[0]):\n",
    "    plt.plot(np.arange(0,1,0.0001), np.array(bo.sigma_arr)[k].reshape(-1)*rho_arr)\n",
    "    plt.axvline(X.T[0][1:][k], color = 'green', alpha = 0.2, linewidth = 0.5)\n",
    "plt.show()"
   ]
  },
  {
   "cell_type": "code",
   "execution_count": null,
   "metadata": {
    "collapsed": true
   },
   "outputs": [],
   "source": [
    "plt.plot(np.arange(0,1,0.0001), rho_arr)\n",
    "plt.hist(X.T[0], bins = 40, label = \"First_argument\", normed = True)\n",
    "plt.show()"
   ]
  },
  {
   "cell_type": "code",
   "execution_count": null,
   "metadata": {
    "collapsed": true
   },
   "outputs": [],
   "source": [
    "plt.plot(np.linspace(0,1,10000), marginal_dist[0])\n",
    "plt.title('marginal distribution')\n",
    "plt.show()"
   ]
  },
  {
   "cell_type": "code",
   "execution_count": null,
   "metadata": {
    "collapsed": true
   },
   "outputs": [],
   "source": [
    "# get covariance matrix (diagonal)\n",
    "np.diag(hmdw.get_func().cov)"
   ]
  },
  {
   "cell_type": "code",
   "execution_count": null,
   "metadata": {
    "collapsed": true
   },
   "outputs": [],
   "source": [
    "# get mean values\n",
    "hmdw.get_func().mean"
   ]
  },
  {
   "cell_type": "code",
   "execution_count": null,
   "metadata": {
    "collapsed": true
   },
   "outputs": [],
   "source": [
    "plt.plot(np.linspace(0.,1.,10000), np.array([get_prob_arr(i) for i in range(10)])[0])\n",
    "plt.show()"
   ]
  },
  {
   "cell_type": "code",
   "execution_count": null,
   "metadata": {
    "collapsed": true
   },
   "outputs": [],
   "source": [
    "#plt.plot(np.linspace(0,1,10000), marginal_dist[0])\n",
    "plt.hist(np.sum(X.T, 0)/max(np.sum(X.T, 0)), normed = True, bins = 20)\n",
    "plt.title('Is it legal?')\n",
    "plt.show()"
   ]
  },
  {
   "cell_type": "code",
   "execution_count": null,
   "metadata": {
    "collapsed": true
   },
   "outputs": [],
   "source": [
    "np.array([np.arange(0,1,0.0001) for _ in range(10)]).T"
   ]
  },
  {
   "cell_type": "code",
   "execution_count": null,
   "metadata": {
    "collapsed": true
   },
   "outputs": [],
   "source": []
  }
 ],
 "metadata": {
  "kernelspec": {
   "display_name": "Python 3",
   "language": "python",
   "name": "python3"
  },
  "language_info": {
   "codemirror_mode": {
    "name": "ipython",
    "version": 3
   },
   "file_extension": ".py",
   "mimetype": "text/x-python",
   "name": "python",
   "nbconvert_exporter": "python",
   "pygments_lexer": "ipython3",
   "version": "3.6.1"
  }
 },
 "nbformat": 4,
 "nbformat_minor": 2
}
