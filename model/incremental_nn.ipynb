{
 "cells": [
  {
   "cell_type": "code",
   "execution_count": 1,
   "metadata": {},
   "outputs": [],
   "source": [
    "import sys  \n",
    "sys.path.insert(0, '../')\n",
    "\n",
    "import torch\n",
    "import torch.nn as nn\n",
    "import numpy as np\n",
    "import os\n",
    "import copy\n",
    "\n",
    "from sklearn.model_selection import train_test_split\n",
    "from sklearn.metrics import mean_absolute_error\n",
    "from feature_extraction import loan_struct_reader\n",
    "from sklearn.datasets import make_blobs\n",
    "\n",
    "from feature_extraction.loan_concatenator import LoanConcatenator\n",
    "from feature_extraction.loan_markuper import LoanMarkuper\n",
    "from feature_extraction.loan_options_maker import LoanOptionsMaker\n",
    "from feature_extraction.loan_struct_reader import LoanStructReader\n",
    "\n",
    "from bayes_opt import BayesianOptimization\n",
    "\n",
    "import matplotlib.pyplot as plt"
   ]
  },
  {
   "cell_type": "code",
   "execution_count": 2,
   "metadata": {},
   "outputs": [],
   "source": [
    "ROOT = os.path.dirname(os.getcwd())\n",
    "FILES_DIR = os.path.join(ROOT, \"json_augmented\")\n",
    "MARKUPFILE = os.path.join(FILES_DIR, r\"markupdict0-2000.pckl\")"
   ]
  },
  {
   "cell_type": "code",
   "execution_count": 3,
   "metadata": {},
   "outputs": [],
   "source": [
    "# read etalon\n",
    "\n",
    "json_example_path = os.path.join(ROOT, r\"json_real\", r\"sample_1.json\")\n",
    "struct, original_options = LoanStructReader().Read(json_example_path, returnOptions=True)"
   ]
  },
  {
   "cell_type": "code",
   "execution_count": 4,
   "metadata": {},
   "outputs": [],
   "source": [
    "# generate fake train_data\n",
    "\n",
    "markuper = LoanMarkuper()\n",
    "optionsMaker = LoanOptionsMaker()\n",
    "markupdict = {}\n",
    "for i in range(0, 300):\n",
    "    options = optionsMaker.Make(original_options)\n",
    "\n",
    "    js = LoanConcatenator(struct, options, {}).Parse()\n",
    "    name = \"sample_{}.json\".format(i)\n",
    "    LoanConcatenator.Save(js, os.path.join(ROOT, r\"json_augmented\", name))\n",
    "    markupdict[name] = markuper.MarkupLoan(js)"
   ]
  },
  {
   "cell_type": "code",
   "execution_count": 5,
   "metadata": {},
   "outputs": [],
   "source": [
    "# markup generated train_data\n",
    "\n",
    "X, y = [], []\n",
    "for file in os.listdir(FILES_DIR):\n",
    "    if file.find(\"markupdict\") != -1:\n",
    "        with open(os.path.join(FILES_DIR, file), 'rb') as f:\n",
    "            markupdict = pickle.load(f)\n",
    "    else:\n",
    "        _, options = loan_struct_reader.LoanStructReader().Read(os.path.join(FILES_DIR, file), returnOptions=True)\n",
    "        X.append(options['irOptions_curve'])\n",
    "        y.append(markupdict[file])\n",
    "X = np.array(X)\n",
    "y = np.array(y)\n",
    "\n",
    "X_train, X_test, y_train, y_test = train_test_split(X, y, test_size=0.33)"
   ]
  },
  {
   "cell_type": "code",
   "execution_count": 6,
   "metadata": {},
   "outputs": [
    {
     "name": "stdout",
     "output_type": "stream",
     "text": [
      "[94140788.30399957 94475329.01214343 94038283.29726231]\n",
      "93751272.85648513\n"
     ]
    }
   ],
   "source": [
    "print(y_train[:3], y_test[0], sep='\\n')"
   ]
  },
  {
   "cell_type": "code",
   "execution_count": 7,
   "metadata": {},
   "outputs": [],
   "source": [
    "y_ = 100000000\n",
    "\n",
    "X_train, y_train = torch.FloatTensor(X_train), torch.FloatTensor(y_train / y_)\n",
    "X_test, y_test = torch.FloatTensor(X_test), torch.FloatTensor(y_test / y_)"
   ]
  },
  {
   "cell_type": "markdown",
   "metadata": {},
   "source": [
    "# Model Define"
   ]
  },
  {
   "cell_type": "code",
   "execution_count": 8,
   "metadata": {},
   "outputs": [],
   "source": [
    "class Net(torch.nn.Module):\n",
    "    def __init__(self, input_size, hidden_size):\n",
    "        super(Net, self).__init__()\n",
    "        self.input_size = input_size\n",
    "        self.hidden_size  = hidden_size\n",
    "        self.fc1 = torch.nn.Linear(self.input_size, self.hidden_size)\n",
    "        self.relu = torch.nn.ReLU()\n",
    "        self.dropout = nn.Dropout(p=0.5)\n",
    "        self.fc2 = torch.nn.Linear(self.hidden_size, 1)\n",
    "        \n",
    "    def forward(self, x):\n",
    "        hidden = self.fc1(x)\n",
    "        relu = self.relu(hidden)\n",
    "        dropped = self.dropout(relu)\n",
    "        output = self.fc2(relu)\n",
    "        return output"
   ]
  },
  {
   "cell_type": "code",
   "execution_count": 9,
   "metadata": {},
   "outputs": [
    {
     "data": {
      "text/plain": [
       "tensor([0.9414, 0.9448, 0.9404, 0.9397, 0.9407, 0.9390, 0.9407, 0.9389, 0.9439,\n",
       "        0.9392, 0.9400, 0.9388, 0.9387, 0.9365, 0.9411, 0.9382, 0.9421, 0.9403,\n",
       "        0.9389, 0.9405, 0.9392, 0.9409, 0.9392, 0.9388, 0.9403, 0.9396, 0.9357,\n",
       "        0.9380, 0.9397, 0.9392, 0.9405, 0.9383, 0.9421, 0.9392, 0.9365, 0.9375,\n",
       "        0.9411, 0.9416, 0.9405, 0.9369, 0.9396, 0.9427, 0.9416, 0.9387, 0.9397,\n",
       "        0.9388, 0.9394, 0.9387, 0.9401, 0.9402, 0.9380, 0.9404, 0.9414, 0.9365,\n",
       "        0.9409, 0.9371, 0.9422, 0.9410, 0.9392, 0.9350, 0.9401, 0.9386, 0.9429,\n",
       "        0.9382, 0.9419, 0.9422, 0.9404, 0.9411, 0.9392, 0.9433, 0.9394, 0.9420,\n",
       "        0.9396, 0.9417, 0.9372, 0.9394, 0.9377, 0.9375, 0.9381, 0.9392, 0.9433,\n",
       "        0.9396, 0.9383, 0.9389, 0.9411, 0.9412, 0.9373, 0.9358, 0.9408, 0.9383,\n",
       "        0.9414, 0.9375, 0.9390, 0.9393, 0.9390, 0.9379, 0.9427, 0.9393, 0.9397,\n",
       "        0.9386, 0.9413, 0.9416, 0.9424, 0.9409, 0.9406, 0.9378, 0.9371, 0.9411,\n",
       "        0.9420, 0.9410, 0.9427, 0.9398, 0.9387, 0.9413, 0.9423, 0.9394, 0.9366,\n",
       "        0.9417, 0.9377, 0.9429, 0.9414, 0.9401, 0.9400, 0.9417, 0.9415, 0.9404,\n",
       "        0.9410, 0.9381, 0.9376, 0.9405, 0.9417, 0.9398, 0.9439, 0.9395, 0.9407,\n",
       "        0.9386, 0.9376, 0.9383, 0.9412, 0.9378, 0.9345, 0.9392, 0.9422, 0.9424,\n",
       "        0.9371, 0.9424, 0.9383, 0.9401, 0.9395, 0.9372, 0.9395, 0.9419, 0.9404,\n",
       "        0.9414, 0.9398, 0.9406, 0.9380, 0.9404, 0.9407, 0.9391, 0.9408, 0.9378,\n",
       "        0.9410, 0.9408, 0.9412, 0.9358, 0.9413, 0.9354, 0.9401, 0.9388, 0.9390,\n",
       "        0.9373, 0.9403, 0.9374, 0.9397, 0.9398, 0.9406, 0.9428, 0.9361, 0.9396,\n",
       "        0.9412, 0.9399, 0.9404, 0.9399, 0.9422, 0.9414, 0.9389, 0.9397, 0.9387,\n",
       "        0.9405, 0.9402, 0.9395, 0.9412, 0.9415, 0.9427, 0.9368, 0.9375, 0.9401,\n",
       "        0.9437, 0.9400, 0.9370])"
      ]
     },
     "execution_count": 9,
     "metadata": {},
     "output_type": "execute_result"
    }
   ],
   "source": [
    "y_train"
   ]
  },
  {
   "cell_type": "markdown",
   "metadata": {},
   "source": [
    "# Training"
   ]
  },
  {
   "cell_type": "code",
   "execution_count": 105,
   "metadata": {},
   "outputs": [],
   "source": [
    "model = Net(10, 50000)\n",
    "criterion = torch.nn.L1Loss()\n",
    "optimizer = torch.optim.Adam(model.parameters(), lr = 0.05)\n",
    "\n",
    "train_info = {'mae_train': [], 'mae_test': [], 'loss_train': []}"
   ]
  },
  {
   "cell_type": "code",
   "execution_count": 106,
   "metadata": {},
   "outputs": [
    {
     "data": {
      "image/png": "[encoded data removed]",
      "text/plain": [
       "<Figure size 432x288 with 1 Axes>"
      ]
     },
     "metadata": {
      "needs_background": "light"
     },
     "output_type": "display_data"
    }
   ],
   "source": [
    "step_size = 5\n",
    "\n",
    "for epoch in range(1000):\n",
    "    train_indexes = np.random.choice(range(len(X_train)), size=step_size)\n",
    "    model.train()\n",
    "    optimizer.zero_grad()\n",
    "    # Forward pass\n",
    "    y_pred = model(X_train[train_indexes])\n",
    "    # Compute Loss\n",
    "    loss = criterion(y_pred.squeeze(), y_train[train_indexes])\n",
    "    train_info['loss_train'].append(loss.item())\n",
    "    \n",
    "    if int(batch_start / step_size) % 10 == 0: print('Epoch {}: train loss: {}'.format(int(batch_start / step_size), loss.item()))\n",
    "    # Backward pass\n",
    "    loss.backward()\n",
    "    optimizer.step()\n",
    "    \n",
    "    model.eval()\n",
    "    train_pred = model(X_train[train_indexes]).squeeze().detach().numpy() * y_\n",
    "    train_true = y_train[train_indexes].numpy() * y_\n",
    "    train_info['mae_train'].append(np.mean(np.abs(train_pred - train_true) / train_true))    \n",
    "    \n",
    "    test_pred = model(X_test).squeeze().detach().numpy() * y_\n",
    "    test_true = y_test.numpy() * y_\n",
    "    train_info['mae_test'].append(np.mean(np.abs(test_pred - test_true) / test_true))\n",
    "\n",
    "# plt.plot(np.arange(len(train_info['loss_train'])), np.array(train_info['loss_train']), label='train_loss')\n",
    "plt.plot(np.arange(len(train_info['mae_train']))[100:], np.array(train_info['mae_train'])[100:], label='train_mae')\n",
    "plt.plot(np.arange(len(train_info['mae_test']))[100:], np.array(train_info['mae_test'])[100:], label='test_mae')\n",
    "plt.legend()\n",
    "plt.show()"
   ]
  },
  {
   "cell_type": "code",
   "execution_count": 107,
   "metadata": {},
   "outputs": [
    {
     "data": {
      "text/plain": [
       "[<matplotlib.lines.Line2D at 0x263efb90a88>]"
      ]
     },
     "execution_count": 107,
     "metadata": {},
     "output_type": "execute_result"
    },
    {
     "data": {
      "image/png": "[encoded data removed]",
      "text/plain": [
       "<Figure size 432x288 with 1 Axes>"
      ]
     },
     "metadata": {
      "needs_background": "light"
     },
     "output_type": "display_data"
    }
   ],
   "source": [
    "plt.plot(np.arange(len(train_info['loss_train'])), np.array(train_info['loss_train']), label='train_loss')"
   ]
  },
  {
   "cell_type": "code",
   "execution_count": 108,
   "metadata": {},
   "outputs": [
    {
     "data": {
      "text/plain": [
       "0.005195793786663227"
      ]
     },
     "execution_count": 108,
     "metadata": {},
     "output_type": "execute_result"
    }
   ],
   "source": [
    "np.mean(train_info['mae_test'][-50:])"
   ]
  },
  {
   "cell_type": "code",
   "execution_count": 38,
   "metadata": {},
   "outputs": [
    {
     "name": "stdout",
     "output_type": "stream",
     "text": [
      "Test loss after Training 0.7465307712554932\n"
     ]
    }
   ],
   "source": [
    "model.eval()\n",
    "y_pred = model(X_test)\n",
    "after_train = criterion(y_pred.squeeze(), y_test) \n",
    "print('Test loss after Training' , after_train.item())"
   ]
  },
  {
   "cell_type": "code",
   "execution_count": 39,
   "metadata": {},
   "outputs": [],
   "source": [
    "model = Net(10, 50000)\n",
    "criterion = torch.nn.L1Loss()\n",
    "optimizer = torch.optim.Adam(model.parameters(), lr = 0.05)"
   ]
  },
  {
   "cell_type": "code",
   "execution_count": 44,
   "metadata": {},
   "outputs": [
    {
     "name": "stdout",
     "output_type": "stream",
     "text": [
      "17\n",
      "12\n",
      "32\n",
      "17\n",
      "19\n",
      "19\n",
      "28\n",
      "12\n",
      "13\n",
      "14\n",
      "22\n",
      "11\n",
      "18\n",
      "10\n",
      "18\n",
      "18\n",
      "16\n",
      "14\n",
      "31\n",
      "27\n",
      "17\n",
      "15\n",
      "21\n",
      "16\n",
      "15\n",
      "12\n",
      "23\n",
      "10\n",
      "15\n",
      "37\n",
      "18\n",
      "22\n",
      "17\n",
      "20\n",
      "15\n",
      "11\n",
      "11\n",
      "11\n",
      "13\n",
      "11\n"
     ]
    }
   ],
   "source": [
    "step_size = 5\n",
    "train_info = {'mae_train': [], 'mae_test': [], 'loss_train': []}\n",
    "best_model = model\n",
    "\n",
    "for X_train_size in range(step_size, len(X_train), step_size):\n",
    "    cur_X_train = X_train[:X_train_size]\n",
    "    cur_y_train = y_train[:X_train_size]   \n",
    "\n",
    "    prev_mape = np.inf\n",
    "    early_stop_count = 0\n",
    "    model = best_model\n",
    "    \n",
    "    for epoch in range(1000):\n",
    "        train_indexes = np.random.choice(range(len(cur_X_train)), size=step_size)\n",
    "        \n",
    "        model.train()\n",
    "        optimizer.zero_grad()\n",
    "        # Forward pass\n",
    "        y_pred = model(cur_X_train[train_indexes])\n",
    "        \n",
    "        # Compute Loss\n",
    "        loss = criterion(y_pred.squeeze(), cur_y_train[train_indexes])\n",
    "\n",
    "        loss.backward()\n",
    "        optimizer.step()\n",
    "\n",
    "        model.eval()\n",
    "\n",
    "        test_pred = model(X_test).squeeze().detach().numpy() * y_\n",
    "        test_true = y_test.numpy() * y_\n",
    "        \n",
    "        \n",
    "        if np.mean(np.abs(test_pred - test_true) / test_true) >= prev_mape:\n",
    "            early_stop_count += 1\n",
    "        else:\n",
    "            early_stop_count = 0\n",
    "            prev_mape = np.mean(np.abs(test_pred - test_true) / test_true)\n",
    "            best_model = model\n",
    "           \n",
    "        if early_stop_count >= 10:\n",
    "            print(epoch)\n",
    "            break\n",
    "            \n",
    "    train_info['mae_test'].append(prev_mape)"
   ]
  },
  {
   "cell_type": "code",
   "execution_count": 45,
   "metadata": {},
   "outputs": [
    {
     "data": {
      "text/plain": [
       "[<matplotlib.lines.Line2D at 0x2869a9f4ec8>]"
      ]
     },
     "execution_count": 45,
     "metadata": {},
     "output_type": "execute_result"
    },
    {
     "data": {
      "image/png": "[encoded data removed]",
      "text/plain": [
       "<Figure size 432x288 with 1 Axes>"
      ]
     },
     "metadata": {
      "needs_background": "light"
     },
     "output_type": "display_data"
    }
   ],
   "source": [
    "plt.plot(np.arange(len(train_info['mae_test'])) * 5, np.array(train_info['mae_test']), label='test_mae')"
   ]
  },
  {
   "cell_type": "code",
   "execution_count": 46,
   "metadata": {},
   "outputs": [
    {
     "data": {
      "text/plain": [
       "array([0.00192555, 0.00192605, 0.00193007, 0.00197525, 0.00192455,\n",
       "       0.00193004, 0.00193854, 0.0019236 , 0.00193343, 0.00196678,\n",
       "       0.00216851, 0.00192442, 0.00192529, 0.00202384, 0.00199296,\n",
       "       0.00198773, 0.00194023, 0.00197561, 0.00201962, 0.001934  ,\n",
       "       0.00194043, 0.00193753, 0.00192359, 0.00203671, 0.00192537,\n",
       "       0.00195618, 0.00194586, 0.00192567, 0.00194307, 0.00192696,\n",
       "       0.00194793, 0.00192511, 0.00200998, 0.00192815, 0.00192612,\n",
       "       0.00193187, 0.00199809, 0.00195882, 0.00192457, 0.0027182 ])"
      ]
     },
     "execution_count": 46,
     "metadata": {},
     "output_type": "execute_result"
    }
   ],
   "source": [
    "np.array(train_info['mae_test'])"
   ]
  },
  {
   "cell_type": "code",
   "execution_count": null,
   "metadata": {},
   "outputs": [],
   "source": []
  }
 ],
 "metadata": {
  "kernelspec": {
   "display_name": "Python 3",
   "language": "python",
   "name": "python3"
  },
  "language_info": {
   "codemirror_mode": {
    "name": "ipython",
    "version": 3
   },
   "file_extension": ".py",
   "mimetype": "text/x-python",
   "name": "python",
   "nbconvert_exporter": "python",
   "pygments_lexer": "ipython3",
   "version": "3.7.10"
  }
 },
 "nbformat": 4,
 "nbformat_minor": 4
}
