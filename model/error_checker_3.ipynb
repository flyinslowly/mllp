{
 "cells": [
  {
   "cell_type": "code",
   "execution_count": 1,
   "metadata": {
    "collapsed": true
   },
   "outputs": [],
   "source": [
    "import sys  \n",
    "sys.path.insert(0, '../')"
   ]
  },
  {
   "cell_type": "code",
   "execution_count": 2,
   "metadata": {},
   "outputs": [
    {
     "name": "stdout",
     "output_type": "stream",
     "text": [
      "warning in stationary: failed to import cython module: falling back to numpy\n",
      "warning in coregionalize: failed to import cython module: falling back to numpy\n",
      "warning in choleskies: failed to import cython module: falling back to numpy\n"
     ]
    }
   ],
   "source": [
    "import os\n",
    "import numpy as np\n",
    "import GPyOpt\n",
    "from feature_extraction.loan_struct_reader import LoanStructReader\n",
    "from feature_extraction.loan_options_maker import LoanOptionsMaker\n",
    "from feature_extraction.loan_concatenator import LoanConcatenator\n",
    "from feature_extraction.loan_markuper import LoanMarkuper\n",
    "from feature_extraction.hist_market_worker import HistMarketDataWorker\n",
    "\n",
    "from scipy.stats.contingency import margins\n",
    "import matplotlib.pyplot as plt\n",
    "import scipy.stats as ss\n",
    "import math"
   ]
  },
  {
   "cell_type": "code",
   "execution_count": 3,
   "metadata": {
    "collapsed": true
   },
   "outputs": [],
   "source": [
    "plt.rcParams[\"axes.labelsize\"] = 16. \n",
    "plt.rcParams[\"xtick.labelsize\"] = 14. \n",
    "plt.rcParams[\"ytick.labelsize\"] = 14. \n",
    "plt.rcParams[\"legend.fontsize\"] = 12. \n",
    "plt.rcParams[\"figure.figsize\"] = [15., 6.]"
   ]
  },
  {
   "cell_type": "code",
   "execution_count": 4,
   "metadata": {
    "collapsed": true
   },
   "outputs": [],
   "source": [
    "PROJECT_PATH = os.path.dirname(os.getcwd())\n",
    "DOMAIN = [{'name': 'var_1', 'type': 'continuous', 'domain': (0, 1)},\n",
    "          {'name': 'var_2', 'type': 'continuous', 'domain': (0, 1)},\n",
    "          {'name': 'var_3', 'type': 'continuous', 'domain': (0, 1)},\n",
    "          {'name': 'var_4', 'type': 'continuous', 'domain': (0, 1)},\n",
    "          {'name': 'var_5', 'type': 'continuous', 'domain': (0, 1)},\n",
    "          {'name': 'var_6', 'type': 'continuous', 'domain': (0, 1)},\n",
    "          {'name': 'var_7', 'type': 'continuous', 'domain': (0, 1)},\n",
    "          {'name': 'var_8', 'type': 'continuous', 'domain': (0, 1)},\n",
    "          {'name': 'var_9', 'type': 'continuous', 'domain': (0, 1)},\n",
    "          {'name': 'var_10', 'type': 'continuous', 'domain': (0, 1)}]\n",
    "\n",
    "DOMAIN_1 = {'name': 'var_1', 'type': 'continuous', 'domain':(0, 1), 'dimensionality':10}"
   ]
  },
  {
   "cell_type": "code",
   "execution_count": 5,
   "metadata": {
    "collapsed": true
   },
   "outputs": [],
   "source": [
    "def f(X, json_example_path=os.path.join(PROJECT_PATH, r\"json_real\", r\"sample_1.json\")):\n",
    "    \"It should take 2-dimensional numpy arrays as input and return 2-dimensional outputs (one evaluation per row)\"\n",
    "    Y = []\n",
    "    for x in X:\n",
    "        struct, original_options = LoanStructReader().Read(json_example_path, returnOptions=True)\n",
    "        options = LoanOptionsMaker().Make(original_options, ir_curve=x)\n",
    "\n",
    "        loan = LoanConcatenator(struct, options, {}).Parse()\n",
    "        Y.append([LoanMarkuper().MarkupLoan(loan)])\n",
    "    return np.array(Y)"
   ]
  },
  {
   "cell_type": "markdown",
   "metadata": {},
   "source": [
    "-----------\n",
    "### Test on empirical observations"
   ]
  },
  {
   "cell_type": "code",
   "execution_count": 6,
   "metadata": {
    "collapsed": true
   },
   "outputs": [],
   "source": [
    "mu = np.array([0.999791,  0.99853703,  0.99374632,  0.98132504,  0.96271221,\n",
    "        0.92621573,  0.85829915,  0.67985138,  0.4574298,  0.45154276])\n",
    "cov = np.cov(np.random.rand(10,10))"
   ]
  },
  {
   "cell_type": "code",
   "execution_count": 7,
   "metadata": {
    "collapsed": true
   },
   "outputs": [],
   "source": [
    "hmdw = HistMarketDataWorker().load()"
   ]
  },
  {
   "cell_type": "code",
   "execution_count": 8,
   "metadata": {
    "collapsed": true
   },
   "outputs": [],
   "source": [
    "normal_dist_1 = ss.multivariate_normal(mean=hmdw.get_func().mean, cov=hmdw.get_func().cov, allow_singular=True)\n",
    "normal_dist_2 = ss.multivariate_normal(mean=hmdw.get_func().mean, cov=cov, allow_singular=True)\n",
    "rho_foo_1 = lambda X: np.array([[normal_dist_1.pdf(x)] for x in X])"
   ]
  },
  {
   "cell_type": "code",
   "execution_count": 9,
   "metadata": {},
   "outputs": [
    {
     "data": {
      "text/plain": [
       "array([[  1.68364856e-11,   1.17855399e-10,   4.84730408e-10,\n",
       "          1.43678159e-09,   2.75599180e-09,   5.31215103e-09,\n",
       "          1.00413010e-08,   2.14812457e-08,   2.90042984e-08,\n",
       "          2.92104868e-08],\n",
       "       [  1.17855399e-10,   8.24987793e-10,   3.39311286e-09,\n",
       "          1.00574711e-08,   1.92919426e-08,   3.71850572e-08,\n",
       "          7.02891071e-08,   1.50368720e-07,   2.03030089e-07,\n",
       "          2.04473407e-07],\n",
       "       [  4.84730408e-10,   3.39311286e-09,   1.46573849e-08,\n",
       "          4.23008916e-08,   7.81069061e-08,   1.42614838e-07,\n",
       "          2.57516001e-07,   5.75501836e-07,   8.67940396e-07,\n",
       "          8.75678783e-07],\n",
       "       [  1.43678159e-09,   1.00574711e-08,   4.23008916e-08,\n",
       "          1.41398817e-07,   3.08534936e-07,   6.61392309e-07,\n",
       "          1.24699012e-06,   2.08307409e-06,   1.92202021e-06,\n",
       "          1.91585845e-06],\n",
       "       [  2.75599180e-09,   1.92919426e-08,   7.81069061e-08,\n",
       "          3.08534936e-07,   8.09740663e-07,   2.00397555e-06,\n",
       "          4.02922430e-06,   5.74073739e-06,   2.27176849e-06,\n",
       "          2.17662032e-06],\n",
       "       [  5.31215103e-09,   3.71850572e-08,   1.42614838e-07,\n",
       "          6.61392309e-07,   2.00397555e-06,   5.48848130e-06,\n",
       "          1.15746225e-05,   1.57202932e-05,   2.04704497e-06,\n",
       "          1.68889717e-06],\n",
       "       [  1.00413010e-08,   7.02891071e-08,   2.57516001e-07,\n",
       "          1.24699012e-06,   4.02922430e-06,   1.15746225e-05,\n",
       "          2.61555887e-05,   3.67662826e-05,   4.83129870e-06,\n",
       "          4.04191198e-06],\n",
       "       [  2.14812457e-08,   1.50368720e-07,   5.75501836e-07,\n",
       "          2.08307409e-06,   5.74073739e-06,   1.57202932e-05,\n",
       "          3.67662826e-05,   6.51964809e-05,   3.43450711e-05,\n",
       "          3.37702763e-05],\n",
       "       [  2.90042984e-08,   2.03030089e-07,   8.67940396e-07,\n",
       "          1.92202021e-06,   2.27176849e-06,   2.04704497e-06,\n",
       "          4.83129870e-06,   3.43450711e-05,   9.04633467e-05,\n",
       "          9.21043033e-05],\n",
       "       [  2.92104868e-08,   2.04473407e-07,   8.75678783e-07,\n",
       "          1.91585845e-06,   2.17662032e-06,   1.68889717e-06,\n",
       "          4.04191198e-06,   3.37702763e-05,   9.21043033e-05,\n",
       "          9.38436916e-05]])"
      ]
     },
     "execution_count": 9,
     "metadata": {},
     "output_type": "execute_result"
    }
   ],
   "source": [
    "hmdw.get_func().cov"
   ]
  },
  {
   "cell_type": "markdown",
   "metadata": {},
   "source": [
    "---------"
   ]
  },
  {
   "cell_type": "code",
   "execution_count": 10,
   "metadata": {},
   "outputs": [
    {
     "name": "stdout",
     "output_type": "stream",
     "text": [
      "(1, 10)\n",
      "[[ 99999999.99999975]]\n",
      "evaluations_list:  (array([[  1.00000000e+00,   1.00000000e+00,   1.00000000e+00,\n",
      "          1.00000000e+00,   1.00000000e+00,   1.00000000e+00,\n",
      "          1.00000000e+00,   1.00000000e+00,   1.00000000e+00,\n",
      "          1.00000000e+00],\n",
      "       [  0.00000000e+00,   0.00000000e+00,   0.00000000e+00,\n",
      "          0.00000000e+00,   0.00000000e+00,   0.00000000e+00,\n",
      "          0.00000000e+00,   0.00000000e+00,   0.00000000e+00,\n",
      "          0.00000000e+00],\n",
      "       [  0.00000000e+00,   0.00000000e+00,   0.00000000e+00,\n",
      "          0.00000000e+00,   0.00000000e+00,   0.00000000e+00,\n",
      "          0.00000000e+00,   1.00000000e+00,   0.00000000e+00,\n",
      "          0.00000000e+00],\n",
      "       [  0.00000000e+00,   0.00000000e+00,   0.00000000e+00,\n",
      "          0.00000000e+00,   0.00000000e+00,   1.00000000e+00,\n",
      "          0.00000000e+00,   0.00000000e+00,   0.00000000e+00,\n",
      "          0.00000000e+00],\n",
      "       [  0.00000000e+00,   0.00000000e+00,   0.00000000e+00,\n",
      "          0.00000000e+00,   1.00000000e+00,   0.00000000e+00,\n",
      "          0.00000000e+00,   0.00000000e+00,   5.55111512e-17,\n",
      "          0.00000000e+00],\n",
      "       [  0.00000000e+00,   0.00000000e+00,   0.00000000e+00,\n",
      "          0.00000000e+00,   0.00000000e+00,   0.00000000e+00,\n",
      "          1.00000000e+00,   0.00000000e+00,   0.00000000e+00,\n",
      "          0.00000000e+00],\n",
      "       [  0.00000000e+00,   1.00000000e+00,   0.00000000e+00,\n",
      "          0.00000000e+00,   0.00000000e+00,   0.00000000e+00,\n",
      "          0.00000000e+00,   0.00000000e+00,   0.00000000e+00,\n",
      "          0.00000000e+00],\n",
      "       [  3.73521968e-01,   3.08230605e-01,   6.62722198e-01,\n",
      "          9.88620186e-01,   7.14372103e-01,   8.97197239e-01,\n",
      "          1.49033482e-01,   9.79102240e-01,   9.19032616e-01,\n",
      "          7.78436779e-01],\n",
      "       [  9.27259425e-02,   9.38309346e-01,   8.26629385e-01,\n",
      "          7.16798859e-01,   8.29984153e-02,   4.74766172e-01,\n",
      "          7.09622436e-01,   7.52068898e-01,   1.23324239e-01,\n",
      "          5.81870968e-01],\n",
      "       [  3.60802051e-01,   5.75406226e-01,   7.06401384e-01,\n",
      "          8.70464671e-01,   1.65018944e-01,   5.62259327e-01,\n",
      "          4.12063716e-01,   8.10443577e-02,   5.88703791e-01,\n",
      "          5.52073314e-02],\n",
      "       [  4.54767003e-01,   5.73345687e-01,   9.43890159e-01,\n",
      "          6.07272783e-01,   6.28989089e-01,   3.26472164e-01,\n",
      "          9.30706472e-01,   9.60287370e-01,   5.36054779e-01,\n",
      "          1.37862298e-01],\n",
      "       [  4.99728561e-01,   7.34168422e-01,   5.55249564e-01,\n",
      "          9.18087391e-01,   6.83690728e-01,   7.37829949e-01,\n",
      "          3.74568291e-01,   8.38663038e-01,   4.77916954e-01,\n",
      "          5.14402314e-01],\n",
      "       [  2.22518732e-01,   3.07504026e-02,   4.53991847e-01,\n",
      "          6.45716855e-01,   8.62688036e-02,   8.98824808e-01,\n",
      "          2.58418484e-01,   9.75146840e-01,   5.61279730e-01,\n",
      "          8.87227001e-02],\n",
      "       [  4.97402527e-01,   6.72316258e-01,   8.91833535e-01,\n",
      "          8.27900240e-01,   2.61971572e-01,   1.12395272e-01,\n",
      "          5.39188869e-01,   9.05398219e-01,   2.61041296e-01,\n",
      "          2.13914570e-02],\n",
      "       [  2.63477395e-01,   1.30629206e-01,   4.09431031e-01,\n",
      "          3.44807996e-01,   1.37524204e-01,   6.93164163e-02,\n",
      "          1.68260946e-01,   9.43712986e-01,   2.83352435e-01,\n",
      "          8.12171246e-01],\n",
      "       [  5.77877030e-01,   5.16724130e-01,   5.74793401e-01,\n",
      "          8.26347418e-01,   8.27754817e-01,   4.71402904e-01,\n",
      "          7.90209682e-01,   4.10809158e-01,   9.91581847e-01,\n",
      "          6.34275412e-01],\n",
      "       [  4.07008930e-01,   4.94694080e-01,   2.57283791e-01,\n",
      "          3.46001045e-01,   6.87180620e-01,   5.13142384e-01,\n",
      "          9.67171933e-01,   1.62173351e-01,   4.40211254e-01,\n",
      "          7.65783651e-01],\n",
      "       [  4.79297963e-01,   1.16742993e-01,   7.56515261e-01,\n",
      "          9.23555878e-01,   5.00726345e-01,   4.91745129e-01,\n",
      "          7.38966632e-01,   3.20032855e-01,   8.21006559e-01,\n",
      "          6.09682362e-01],\n",
      "       [  4.02946404e-01,   5.03355897e-01,   9.83749383e-01,\n",
      "          4.56040332e-01,   4.42884730e-01,   8.14614576e-01,\n",
      "          5.96200697e-03,   1.02252812e-01,   1.13003308e-01,\n",
      "          8.44161865e-01],\n",
      "       [  8.51655158e-01,   7.35807038e-01,   5.52996393e-01,\n",
      "          5.01394848e-01,   5.97934035e-01,   7.16621578e-01,\n",
      "          5.12146959e-01,   4.01567966e-01,   4.95626176e-01,\n",
      "          8.66686622e-01],\n",
      "       [  4.63382930e-01,   7.52659583e-01,   5.35921157e-01,\n",
      "          6.48503904e-01,   1.86172859e-01,   6.49834660e-01,\n",
      "          7.50073968e-01,   3.64896294e-01,   2.16939348e-01,\n",
      "          5.87739055e-01],\n",
      "       [  2.11630688e-02,   7.27644473e-01,   4.88324958e-01,\n",
      "          3.63258900e-01,   6.19902560e-01,   6.56990676e-01,\n",
      "          6.26168052e-01,   1.29473108e-02,   6.11075507e-01,\n",
      "          9.37285150e-01],\n",
      "       [  2.74598408e-01,   3.99242973e-01,   8.50932355e-01,\n",
      "          8.16676872e-01,   7.71842214e-01,   1.30337125e-01,\n",
      "          4.34604180e-01,   5.39990116e-01,   5.22140342e-01,\n",
      "          7.65468572e-01],\n",
      "       [  9.23374861e-01,   5.19735309e-01,   2.37699743e-01,\n",
      "          8.55772441e-01,   5.80838045e-01,   6.67359940e-01,\n",
      "          5.41909040e-01,   8.77459939e-01,   4.26317291e-01,\n",
      "          1.77483678e-01],\n",
      "       [  5.24261315e-01,   2.29861503e-01,   6.01154176e-01,\n",
      "          6.08553572e-01,   9.42270186e-01,   4.13658324e-01,\n",
      "          7.02737985e-01,   4.55661487e-01,   3.08531565e-01,\n",
      "          7.62661826e-01],\n",
      "       [  2.89940373e-01,   7.01183841e-01,   1.39845624e-02,\n",
      "          4.10065373e-01,   4.74851911e-01,   7.76684173e-01,\n",
      "          6.32287503e-01,   2.18980947e-01,   5.08135621e-04,\n",
      "          4.82467822e-01],\n",
      "       [  9.67992859e-01,   6.60359597e-01,   9.28276079e-01,\n",
      "          1.17970654e-01,   7.82938727e-01,   3.03639551e-01,\n",
      "          6.19906894e-01,   9.69941535e-01,   1.66467774e-01,\n",
      "          9.66716127e-02],\n",
      "       [  3.21463811e-01,   4.11086012e-01,   1.53697190e-01,\n",
      "          1.25454335e-01,   1.31464330e-02,   7.97602614e-02,\n",
      "          7.41530312e-01,   3.30494683e-01,   5.02006490e-01,\n",
      "          5.55901855e-01],\n",
      "       [  4.89089713e-01,   8.09918504e-01,   3.26970839e-01,\n",
      "          5.47698486e-01,   1.35042704e-01,   3.08715473e-01,\n",
      "          3.18324604e-01,   8.86560288e-01,   5.80067992e-01,\n",
      "          7.37238821e-01],\n",
      "       [  4.00069199e-01,   1.60939086e-02,   5.20919112e-01,\n",
      "          8.54950306e-01,   5.70991347e-02,   7.48517938e-01,\n",
      "          3.26947835e-01,   7.62830026e-01,   9.85342385e-01,\n",
      "          7.20673156e-01],\n",
      "       [  1.22495824e-01,   6.64811907e-01,   3.31824120e-01,\n",
      "          3.24938627e-01,   9.18549077e-01,   8.11220991e-01,\n",
      "          8.41445655e-01,   5.81288929e-01,   2.89818964e-01,\n",
      "          7.82035394e-01],\n",
      "       [  3.59837035e-01,   8.05192929e-01,   2.54331443e-02,\n",
      "          9.91853151e-01,   4.27729769e-01,   7.88691791e-01,\n",
      "          2.17296431e-01,   2.41377411e-01,   3.57311923e-01,\n",
      "          1.71008096e-01],\n",
      "       [  4.54242106e-01,   8.96646695e-01,   2.97108278e-01,\n",
      "          1.62586297e-02,   1.55699832e-01,   3.92513316e-01,\n",
      "          6.11197297e-01,   3.80839308e-01,   2.48384196e-01,\n",
      "          5.84712059e-02],\n",
      "       [  1.33607895e-01,   1.63750318e-01,   3.61811397e-03,\n",
      "          9.48863303e-01,   9.60995250e-01,   8.00218993e-01,\n",
      "          3.87449235e-01,   8.15864892e-01,   2.47165064e-01,\n",
      "          1.30508577e-01],\n",
      "       [  8.16948258e-01,   2.57729103e-01,   4.02305477e-01,\n",
      "          7.17798336e-01,   6.74094483e-01,   1.27160560e-01,\n",
      "          2.43628757e-01,   9.45971617e-02,   8.59299714e-01,\n",
      "          4.24376253e-01],\n",
      "       [  2.00888450e-01,   5.67033763e-01,   9.91901966e-01,\n",
      "          1.56137023e-01,   2.08766723e-01,   8.39545290e-01,\n",
      "          1.15898806e-01,   7.07944670e-01,   1.26551557e-01,\n",
      "          9.97550901e-01],\n",
      "       [  1.83732210e-01,   7.07862157e-01,   7.49902020e-01,\n",
      "          5.91339987e-01,   9.50689114e-01,   7.89715854e-01,\n",
      "          3.26119942e-01,   6.04787630e-01,   6.19949869e-01,\n",
      "          7.42215140e-01],\n",
      "       [  8.42166955e-01,   3.27677639e-01,   5.96706200e-01,\n",
      "          9.89269861e-02,   2.89192060e-01,   3.36041705e-01,\n",
      "          4.71827312e-01,   2.90026947e-01,   1.39856145e-01,\n",
      "          2.02781693e-01],\n",
      "       [  3.31068344e-01,   7.59487245e-01,   5.95245049e-01,\n",
      "          4.19851239e-01,   9.24828358e-01,   7.93736925e-01,\n",
      "          7.77135806e-01,   8.52778993e-01,   5.53061511e-01,\n",
      "          9.44912781e-01],\n",
      "       [  2.43130186e-01,   5.58930142e-01,   1.92296300e-01,\n",
      "          8.13153020e-01,   8.96778767e-02,   7.58011214e-01,\n",
      "          1.81777233e-01,   8.10187994e-01,   6.53556324e-01,\n",
      "          4.03350937e-01],\n",
      "       [  2.76318339e-01,   2.29313220e-01,   2.94583503e-01,\n",
      "          1.82019153e-01,   4.84944406e-01,   2.76343648e-01,\n",
      "          2.20242468e-01,   4.35538879e-01,   2.78886181e-01,\n",
      "          8.60632773e-01],\n",
      "       [  7.87633122e-01,   7.06187302e-01,   1.97241341e-01,\n",
      "          6.47512189e-01,   2.25328732e-01,   5.93847278e-01,\n",
      "          9.19116876e-01,   5.62936271e-01,   8.76491755e-01,\n",
      "          2.94261804e-01],\n",
      "       [  8.44022979e-01,   9.15561743e-01,   2.11219187e-01,\n",
      "          8.02079895e-01,   2.62408987e-01,   4.40087759e-01,\n",
      "          1.75988439e-01,   7.91030486e-01,   7.99916352e-02,\n",
      "          5.80774906e-01],\n",
      "       [  4.42036856e-01,   3.74071926e-01,   1.55446984e-01,\n",
      "          2.46574169e-01,   6.06971979e-01,   1.68547610e-01,\n",
      "          1.88185568e-01,   9.62747381e-01,   7.74934862e-01,\n",
      "          2.33445592e-01],\n",
      "       [  2.38470741e-01,   9.80040014e-01,   3.54354724e-01,\n",
      "          7.96287442e-01,   6.19084308e-01,   9.54876323e-02,\n",
      "          7.79878043e-01,   7.41603713e-01,   3.19132253e-01,\n",
      "          1.09854021e-01],\n",
      "       [  4.16076593e-02,   2.88177778e-01,   6.53684032e-02,\n",
      "          6.10542575e-01,   8.48736955e-01,   3.73960484e-01,\n",
      "          5.40481054e-01,   7.50453164e-01,   3.14672240e-01,\n",
      "          6.75376816e-01],\n",
      "       [  4.94157273e-01,   6.28384375e-02,   6.64953858e-01,\n",
      "          4.42955544e-01,   4.41553332e-01,   8.86595241e-01,\n",
      "          4.16308385e-01,   1.30491308e-01,   8.53402935e-03,\n",
      "          4.68482243e-01],\n",
      "       [  2.06451973e-02,   2.80448352e-01,   6.03511224e-01,\n",
      "          7.73523023e-01,   2.50651458e-01,   3.08298579e-01,\n",
      "          4.30069896e-01,   9.76141564e-01,   9.95206696e-01,\n",
      "          8.82397571e-01],\n",
      "       [  3.06812177e-01,   1.11286538e-01,   5.55879583e-01,\n",
      "          5.79197777e-01,   1.26441905e-01,   3.38203807e-01,\n",
      "          4.27975396e-01,   1.08195540e-01,   6.98676151e-01,\n",
      "          2.78679724e-01],\n",
      "       [  7.07796520e-02,   1.91194252e-01,   7.19225989e-01,\n",
      "          2.71895127e-01,   8.42130021e-01,   2.82289961e-01,\n",
      "          4.51509494e-01,   6.28053405e-01,   3.49269935e-01,\n",
      "          3.97390088e-01],\n",
      "       [  5.21423517e-01,   4.87034987e-01,   8.52609315e-01,\n",
      "          6.05370508e-01,   6.44920275e-02,   2.66917578e-01,\n",
      "          6.91253629e-01,   5.76548678e-01,   2.40449736e-01,\n",
      "          3.48846950e-01]]), array([[  1.00000000e+08],\n",
      "       [  1.94732358e-13],\n",
      "       [  1.94732358e-13],\n",
      "       [  1.94732358e-13],\n",
      "       [  1.94732358e-13],\n",
      "       [  1.94732358e-13],\n",
      "       [  1.94732358e-13],\n",
      "       [  8.84796272e+07],\n",
      "       [  4.26945450e+07],\n",
      "       [  5.21783038e+07],\n",
      "       [  3.39841654e+07],\n",
      "       [  7.34402354e+07],\n",
      "       [  7.79461876e+07],\n",
      "       [  1.18372410e+07],\n",
      "       [  7.22849507e+06],\n",
      "       [  4.87925794e+07],\n",
      "       [  5.22388925e+07],\n",
      "       [  4.92289352e+07],\n",
      "       [  7.84875223e+07],\n",
      "       [  7.08738921e+07],\n",
      "       [  6.02169841e+07],\n",
      "       [  6.54662136e+07],\n",
      "       [  1.45368388e+07],\n",
      "       [  6.61722625e+07],\n",
      "       [  4.35043247e+07],\n",
      "       [  7.53703179e+07],\n",
      "       [  3.21775125e+07],\n",
      "       [  7.14708209e+06],\n",
      "       [  2.93531632e+07],\n",
      "       [  6.40163068e+07],\n",
      "       [  8.17406079e+07],\n",
      "       [  7.59784038e+07],\n",
      "       [  3.70992478e+07],\n",
      "       [  8.09226270e+07],\n",
      "       [  1.40861203e+07],\n",
      "       [  7.71301290e+07],\n",
      "       [  7.98723602e+07],\n",
      "       [  3.32973503e+07],\n",
      "       [  8.01188728e+07],\n",
      "       [  6.65721360e+07],\n",
      "       [  2.86018848e+07],\n",
      "       [  5.59772417e+07],\n",
      "       [  4.26414679e+07],\n",
      "       [  1.82317583e+07],\n",
      "       [  1.07096177e+07],\n",
      "       [  3.93205033e+07],\n",
      "       [  8.49676275e+07],\n",
      "       [  3.04424872e+07],\n",
      "       [  3.18510698e+07],\n",
      "       [  3.01840228e+07],\n",
      "       [  2.44792810e+07]]))\n",
      "test_sample_values:\n",
      "\\mu_values:  [[ 0.]\n",
      " [ 0.]\n",
      " [ 0.]\n",
      " [ 0.]\n",
      " [ 0.]\n",
      " [ 0.]\n",
      " [ 0.]\n",
      " [ 0.]\n",
      " [ 0.]\n",
      " [ 0.]\n",
      " [ 0.]\n",
      " [ 0.]\n",
      " [ 0.]\n",
      " [ 0.]\n",
      " [ 0.]\n",
      " [ 0.]\n",
      " [ 0.]\n",
      " [ 0.]\n",
      " [ 0.]\n",
      " [ 0.]]\n",
      "\\sigma_values:  [[ 315996.78703423]\n",
      " [ 315996.78703423]\n",
      " [ 315996.78703423]\n",
      " [ 315996.78703423]\n",
      " [ 315996.78703423]\n",
      " [ 315996.78703423]\n",
      " [ 315996.78703423]\n",
      " [ 315996.78703423]\n",
      " [ 315996.78703423]\n",
      " [ 315996.78703423]\n",
      " [ 315996.78703423]\n",
      " [ 315996.78703423]\n",
      " [ 315996.78703423]\n",
      " [ 315996.78703423]\n",
      " [ 315996.78703423]\n",
      " [ 315996.78703423]\n",
      " [ 315996.78703423]\n",
      " [ 315996.78703423]\n",
      " [ 315996.78703423]\n",
      " [ 315996.78703423]]\n",
      "MAE:  inf\n"
     ]
    }
   ],
   "source": [
    "X_init = np.array(np.ones(HistMarketDataWorker().load().get_sample().shape).reshape(1, -1))\n",
    "print(X_init.shape)\n",
    "Y_init = f(X_init)\n",
    "print(Y_init)\n",
    "\n",
    "bo = GPyOpt.methods.BayesianOptimization(f=f, domain=DOMAIN,\n",
    "                                        initial_design_numdata = 5,\n",
    "                                        X=X_init, Y=Y_init,\n",
    "                                        acquisition_type='LCB',\n",
    "                                        exact_feval = True,\n",
    "                                        normalize_Y = False,\n",
    "                                        optimize_restarts = 10,\n",
    "                                        acquisition_weight = 2,\n",
    "                                        de_duplication = True)\n",
    "                                        #rho_func = rho_foo_1, #hmdw.rho_normal,\n",
    "                                        #exploration_weight=1000,\n",
    "                                        #with_noise=False)\n",
    "\n",
    "X_test = []\n",
    "for i in range(20):\n",
    "    X_test.append(hmdw.get_sample())\n",
    "X_test = np.array(X_test)\n",
    "\n",
    "bo.run_optimization(50)#, test_X = X_test)\n",
    "print('evaluations_list: ', bo.get_evaluations())\n",
    "\n",
    "print('test_sample_values:')\n",
    "predict = bo.model.predict(X_test)\n",
    "print('\\mu_values: ', predict[0])\n",
    "print('\\sigma_values: ', predict[1])\n",
    "print('MAE: ', np.mean(predict[1] / predict[0]))\n",
    "#print('MAE_list: ', bo.error_list)"
   ]
  },
  {
   "cell_type": "code",
   "execution_count": 11,
   "metadata": {},
   "outputs": [
    {
     "data": {
      "text/plain": [
       "array([ 0.99979   ,  0.99853001,  0.99374179,  0.9811724 ,  0.96210082,\n",
       "        0.92407917,  0.85574636,  0.67502077,  0.45838138,  0.45276679])"
      ]
     },
     "execution_count": 11,
     "metadata": {},
     "output_type": "execute_result"
    }
   ],
   "source": [
    "X_test[0]"
   ]
  },
  {
   "cell_type": "code",
   "execution_count": 12,
   "metadata": {},
   "outputs": [
    {
     "data": {
      "text/plain": [
       "(array([[ 0.]]), array([[ 315996.78703423]]))"
      ]
     },
     "execution_count": 12,
     "metadata": {},
     "output_type": "execute_result"
    }
   ],
   "source": [
    "bo.model.predict(X_test[0])"
   ]
  },
  {
   "cell_type": "markdown",
   "metadata": {},
   "source": [
    "-----------\n",
    "### Check statistics from X_test"
   ]
  },
  {
   "cell_type": "code",
   "execution_count": 13,
   "metadata": {
    "collapsed": true
   },
   "outputs": [],
   "source": [
    "X_test = []\n",
    "for i in range(20000):\n",
    "    X_test.append(hmdw.get_sample())\n",
    "X_test = np.array(X_test)"
   ]
  },
  {
   "cell_type": "code",
   "execution_count": 14,
   "metadata": {},
   "outputs": [
    {
     "data": {
      "text/plain": [
       "array([[ 0.99979216,  0.99854513,  0.99375912, ...,  0.67933234,\n",
       "         0.44337376,  0.43703739],\n",
       "       [ 0.99979332,  0.99855326,  0.99379877, ...,  0.68846262,\n",
       "         0.47221814,  0.46659297],\n",
       "       [ 0.99978685,  0.99850798,  0.99359321, ...,  0.67568777,\n",
       "         0.45453427,  0.44840936],\n",
       "       ..., \n",
       "       [ 0.99979306,  0.99855145,  0.99381596, ...,  0.67571569,\n",
       "         0.45371672,  0.4476139 ],\n",
       "       [ 0.9997916 ,  0.99854123,  0.99373869, ...,  0.6834177 ,\n",
       "         0.45481212,  0.44884008],\n",
       "       [ 0.99978861,  0.99852025,  0.99366064, ...,  0.68843989,\n",
       "         0.45161151,  0.44531562]])"
      ]
     },
     "execution_count": 14,
     "metadata": {},
     "output_type": "execute_result"
    }
   ],
   "source": [
    "X_test"
   ]
  },
  {
   "cell_type": "code",
   "execution_count": 15,
   "metadata": {},
   "outputs": [
    {
     "data": {
      "text/plain": [
       "array([ 0.999791  ,  0.99853703,  0.99374632,  0.98132504,  0.96271221,\n",
       "        0.92621573,  0.85829915,  0.67985138,  0.4574298 ,  0.45154276])"
      ]
     },
     "execution_count": 15,
     "metadata": {},
     "output_type": "execute_result"
    }
   ],
   "source": [
    "mean_values = np.mean(np.transpose(X_test), 1)\n",
    "mean_values"
   ]
  },
  {
   "cell_type": "code",
   "execution_count": 16,
   "metadata": {},
   "outputs": [
    {
     "data": {
      "text/plain": [
       "array([  4.08725409e-06,   2.86107792e-05,   1.20669247e-04,\n",
       "         3.75176684e-04,   9.02358560e-04,   2.35545598e-03,\n",
       "         5.14899681e-03,   8.13050804e-03,   9.45530094e-03,\n",
       "         9.63005707e-03])"
      ]
     },
     "execution_count": 16,
     "metadata": {},
     "output_type": "execute_result"
    }
   ],
   "source": [
    "np.std(np.transpose(X_test), 1)"
   ]
  },
  {
   "cell_type": "markdown",
   "metadata": {},
   "source": [
    "------------"
   ]
  },
  {
   "cell_type": "code",
   "execution_count": 17,
   "metadata": {},
   "outputs": [
    {
     "ename": "AttributeError",
     "evalue": "'BayesianOptimization' object has no attribute 'error_list'",
     "output_type": "error",
     "traceback": [
      "\u001b[1;31m---------------------------------------------------------------------------\u001b[0m",
      "\u001b[1;31mAttributeError\u001b[0m                            Traceback (most recent call last)",
      "\u001b[1;32m<ipython-input-17-a661da6af645>\u001b[0m in \u001b[0;36m<module>\u001b[1;34m()\u001b[0m\n\u001b[1;32m----> 1\u001b[1;33m \u001b[0ma1\u001b[0m \u001b[1;33m=\u001b[0m \u001b[0mbo\u001b[0m\u001b[1;33m.\u001b[0m\u001b[0merror_list\u001b[0m\u001b[1;33m[\u001b[0m\u001b[1;36m1\u001b[0m\u001b[1;33m:\u001b[0m\u001b[1;33m]\u001b[0m\u001b[1;33m\u001b[0m\u001b[0m\n\u001b[0m\u001b[0;32m      2\u001b[0m \u001b[0mb1\u001b[0m \u001b[1;33m=\u001b[0m \u001b[0mbo\u001b[0m\u001b[1;33m.\u001b[0m\u001b[0mtest_error_list\u001b[0m\u001b[1;33m[\u001b[0m\u001b[1;36m1\u001b[0m\u001b[1;33m:\u001b[0m\u001b[1;33m]\u001b[0m\u001b[1;33m\u001b[0m\u001b[0m\n",
      "\u001b[1;31mAttributeError\u001b[0m: 'BayesianOptimization' object has no attribute 'error_list'"
     ]
    }
   ],
   "source": [
    "a1 = bo.error_list[1:]\n",
    "b1 = bo.test_error_list[1:]"
   ]
  },
  {
   "cell_type": "code",
   "execution_count": null,
   "metadata": {
    "collapsed": true
   },
   "outputs": [],
   "source": [
    "plt.plot(a1, label = 'train_MAE')\n",
    "plt.plot(b1, label = 'model_MAE')\n",
    "#plt.plot([np.mean(predict[1] / predict[0]) for _ in range(len(bo.error_list)-1)], color = 'red', label = 'test_MAE')\n",
    "plt.legend()\n",
    "plt.show()"
   ]
  },
  {
   "cell_type": "code",
   "execution_count": null,
   "metadata": {
    "collapsed": true
   },
   "outputs": [],
   "source": [
    "plt.plot(np.diff(bo.test_error_list[1:])[20:])\n",
    "print('maximum_diff: ', max(np.diff(bo.test_error_list[1:])[20:]))\n",
    "plt.show()"
   ]
  },
  {
   "cell_type": "code",
   "execution_count": null,
   "metadata": {
    "collapsed": true
   },
   "outputs": [],
   "source": [
    "np.std(np.transpose(X_test)[0])"
   ]
  },
  {
   "cell_type": "code",
   "execution_count": null,
   "metadata": {
    "collapsed": true
   },
   "outputs": [],
   "source": [
    "rho = lambda x: ss.norm.pdf(x, loc = np.mean(np.transpose(X_test)[0]), scale = np.sqrt(hmdw.get_func().cov[0][0]))\n",
    "\n",
    "x = np.linspace(0.9997, 0.9999, 10000)\n",
    "plt.plot(x, rho(x), 'k-', lw=2, label='frozen pdf')\n",
    "plt.hist(np.transpose(X_test)[0], bins = 30, normed = True)\n",
    "plt.grid()\n",
    "plt.title('first argument distribution')\n",
    "plt.show()"
   ]
  },
  {
   "cell_type": "code",
   "execution_count": null,
   "metadata": {
    "collapsed": true
   },
   "outputs": [],
   "source": [
    "rho = lambda x: ss.norm.pdf(x, loc = np.mean(np.transpose(X_test)[1]), scale = np.sqrt(hmdw.get_func().cov[1][1]))\n",
    "\n",
    "x = np.linspace(0.9984, 0.9988, 10000)\n",
    "plt.plot(x, rho(x), 'k-', lw=2, label='frozen pdf')\n",
    "plt.hist(np.transpose(X_test)[1], bins = 30, normed = True)\n",
    "plt.grid()\n",
    "plt.title('first argument distribution')\n",
    "plt.show()"
   ]
  },
  {
   "cell_type": "code",
   "execution_count": null,
   "metadata": {
    "collapsed": true
   },
   "outputs": [],
   "source": [
    "rho = lambda x: ss.norm.pdf(x, loc = np.mean(np.transpose(X_test)[-1]), scale = np.sqrt(hmdw.get_func().cov[-1][-1]))\n",
    "\n",
    "x = np.linspace(0.4, 0.5, 10000)\n",
    "plt.plot(x, rho(x), 'k-', lw=2, label='frozen pdf')\n",
    "plt.hist(np.transpose(X_test)[-1], bins = 30, normed = True)\n",
    "plt.grid()\n",
    "plt.title('last argument distribution')\n",
    "plt.show()"
   ]
  },
  {
   "cell_type": "code",
   "execution_count": null,
   "metadata": {
    "collapsed": true
   },
   "outputs": [],
   "source": [
    "hmdw.get_func().cov[0][0]*1e7"
   ]
  },
  {
   "cell_type": "markdown",
   "metadata": {},
   "source": [
    "### Check data on test points\n",
    "---------------"
   ]
  },
  {
   "cell_type": "code",
   "execution_count": null,
   "metadata": {
    "collapsed": true
   },
   "outputs": [],
   "source": [
    "vals = bo.get_evaluations()\n",
    "X = vals[0]\n",
    "y = [k[0] for k in vals[1]]"
   ]
  },
  {
   "cell_type": "code",
   "execution_count": null,
   "metadata": {
    "collapsed": true
   },
   "outputs": [],
   "source": [
    "plt.hist(X.T[0], bins = 40, label = \"First_argument\")\n",
    "plt.axvline(mean_values[0], color = 'red', label = 'mean_test_value')\n",
    "plt.legend()\n",
    "plt.show()"
   ]
  },
  {
   "cell_type": "code",
   "execution_count": null,
   "metadata": {
    "collapsed": true
   },
   "outputs": [],
   "source": [
    "plt.hist(X.T[1], bins = 40, label = \"Second_argument\")\n",
    "plt.axvline(mean_values[1], color = 'red', label = 'mean_test_value')\n",
    "plt.legend()\n",
    "plt.show()"
   ]
  },
  {
   "cell_type": "code",
   "execution_count": null,
   "metadata": {
    "collapsed": true
   },
   "outputs": [],
   "source": [
    "plt.hist(X.T[2], bins = 40, label = \"Third_argument\")\n",
    "plt.axvline(mean_values[2], color = 'red', label = 'mean_test_value')\n",
    "plt.legend()\n",
    "plt.show()"
   ]
  },
  {
   "cell_type": "code",
   "execution_count": null,
   "metadata": {
    "collapsed": true
   },
   "outputs": [],
   "source": [
    "plt.hist(X.T[3], bins = 40, label = \"Fourth_argument\")\n",
    "plt.axvline(mean_values[3], color = 'red', label = 'mean_test_value')\n",
    "plt.legend()\n",
    "plt.show()"
   ]
  },
  {
   "cell_type": "code",
   "execution_count": null,
   "metadata": {
    "collapsed": true
   },
   "outputs": [],
   "source": [
    "plt.hist(X.T[-1], bins = 40, label = \"Last_argument\")\n",
    "plt.axvline(mean_values[-1], color = 'red', label = 'mean_test_value')\n",
    "plt.legend()\n",
    "plt.show()"
   ]
  },
  {
   "cell_type": "markdown",
   "metadata": {},
   "source": [
    "----------\n",
    "### Lets look at the histogram of the avaliable values relative to the theoretical distribution for the model covariance matrix"
   ]
  },
  {
   "cell_type": "code",
   "execution_count": null,
   "metadata": {
    "collapsed": true
   },
   "outputs": [],
   "source": [
    "plt.plot(np.arange(0,1, 0.0001), np.array(bo.sigma_arr)[2])\n",
    "plt.title('sigma_array')\n",
    "plt.show()"
   ]
  },
  {
   "cell_type": "markdown",
   "metadata": {},
   "source": [
    "--------------\n",
    "#### Get sigma arrays"
   ]
  },
  {
   "cell_type": "code",
   "execution_count": null,
   "metadata": {
    "collapsed": true
   },
   "outputs": [],
   "source": [
    "for k in range(10):\n",
    "    plt.plot(np.arange(0,1, 0.0001), np.array(bo.sigma_arr)[k], label = 'sigma_'+str(k))\n",
    "plt.title('sigma_arrays')\n",
    "plt.legend()\n",
    "plt.show()"
   ]
  },
  {
   "cell_type": "markdown",
   "metadata": {},
   "source": [
    "-------------"
   ]
  },
  {
   "cell_type": "code",
   "execution_count": null,
   "metadata": {
    "collapsed": true
   },
   "outputs": [],
   "source": [
    "get_prob_arr = lambda k: ss.norm.pdf(x = np.linspace(0,1,10000), loc = hmdw.get_func().mean[k], scale = np.sqrt(hmdw.get_func().cov[k][k]))\n",
    "marginal_dist = margins(np.array([get_prob_arr(i) for i in range(10)]))[1]"
   ]
  },
  {
   "cell_type": "code",
   "execution_count": null,
   "metadata": {
    "collapsed": true
   },
   "outputs": [],
   "source": [
    "rho_arr = ss.norm.pdf(x = np.arange(0,1,0.0001), loc = hmdw.get_func().mean[-1], scale = np.sqrt(hmdw.get_func().cov[-1][-1]))\n",
    "arr = np.array([np.arange(0,1,0.0001) for _ in range(10)])\n",
    "mass = rho_foo_1(arr.T)"
   ]
  },
  {
   "cell_type": "code",
   "execution_count": null,
   "metadata": {
    "collapsed": true
   },
   "outputs": [],
   "source": [
    "for k in range(np.array(bo.sigma_arr).shape[0]):\n",
    "    plt.plot(np.arange(0,1,0.0001), np.array(bo.sigma_arr)[k].reshape(-1)*rho_arr)\n",
    "    plt.axvline(X.T[0][1:][k])\n",
    "    plt.show()"
   ]
  },
  {
   "cell_type": "code",
   "execution_count": null,
   "metadata": {
    "collapsed": true
   },
   "outputs": [],
   "source": [
    "bo.sigma_arr"
   ]
  },
  {
   "cell_type": "code",
   "execution_count": null,
   "metadata": {
    "collapsed": true
   },
   "outputs": [],
   "source": [
    "for k in range(np.array(bo.sigma_arr).shape[0]):\n",
    "    plt.plot(np.arange(0,1,0.0001), np.array(bo.sigma_arr)[k].reshape(-1)*rho_arr)\n",
    "    plt.axvline(X.T[0][1:][k], color = 'green', alpha = 0.2, linewidth = 0.5)\n",
    "plt.show()"
   ]
  },
  {
   "cell_type": "code",
   "execution_count": null,
   "metadata": {
    "collapsed": true
   },
   "outputs": [],
   "source": [
    "plt.plot(np.arange(0,1,0.0001), rho_arr)\n",
    "plt.hist(X.T[0], bins = 40, label = \"First_argument\", normed = True)\n",
    "plt.show()"
   ]
  },
  {
   "cell_type": "code",
   "execution_count": null,
   "metadata": {
    "collapsed": true
   },
   "outputs": [],
   "source": [
    "plt.plot(np.linspace(0,1,10000), marginal_dist[0])\n",
    "plt.title('marginal distribution')\n",
    "plt.show()"
   ]
  },
  {
   "cell_type": "code",
   "execution_count": null,
   "metadata": {
    "collapsed": true
   },
   "outputs": [],
   "source": [
    "# get covariance matrix (diagonal)\n",
    "np.diag(hmdw.get_func().cov)"
   ]
  },
  {
   "cell_type": "code",
   "execution_count": null,
   "metadata": {
    "collapsed": true
   },
   "outputs": [],
   "source": [
    "# get mean values\n",
    "hmdw.get_func().mean"
   ]
  },
  {
   "cell_type": "code",
   "execution_count": null,
   "metadata": {
    "collapsed": true
   },
   "outputs": [],
   "source": [
    "plt.plot(np.linspace(0.,1.,10000), np.array([get_prob_arr(i) for i in range(10)])[0])\n",
    "plt.show()"
   ]
  },
  {
   "cell_type": "code",
   "execution_count": null,
   "metadata": {
    "collapsed": true
   },
   "outputs": [],
   "source": [
    "#plt.plot(np.linspace(0,1,10000), marginal_dist[0])\n",
    "plt.hist(np.sum(X.T, 0)/max(np.sum(X.T, 0)), normed = True, bins = 20)\n",
    "plt.title('Is it legal?')\n",
    "plt.show()"
   ]
  },
  {
   "cell_type": "code",
   "execution_count": null,
   "metadata": {
    "collapsed": true
   },
   "outputs": [],
   "source": [
    "np.array([np.arange(0,1,0.0001) for _ in range(10)]).T"
   ]
  }
 ],
 "metadata": {
  "kernelspec": {
   "display_name": "Python 3",
   "language": "python",
   "name": "python3"
  },
  "language_info": {
   "codemirror_mode": {
    "name": "ipython",
    "version": 3
   },
   "file_extension": ".py",
   "mimetype": "text/x-python",
   "name": "python",
   "nbconvert_exporter": "python",
   "pygments_lexer": "ipython3",
   "version": "3.6.1"
  }
 },
 "nbformat": 4,
 "nbformat_minor": 2
}
