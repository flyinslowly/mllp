{
 "cells": [
  {
   "cell_type": "code",
   "execution_count": 1,
   "metadata": {},
   "outputs": [],
   "source": [
    "import sys  \n",
    "sys.path.insert(0, '../')\n",
    "\n",
    "import lightgbm as lgbm\n",
    "import numpy as np\n",
    "import os\n",
    "import copy\n",
    "\n",
    "from sklearn.model_selection import train_test_split\n",
    "from sklearn.metrics import mean_absolute_error\n",
    "from feature_extraction import loan_struct_reader\n",
    "\n",
    "from feature_extraction.loan_concatenator import LoanConcatenator\n",
    "from feature_extraction.loan_markuper import LoanMarkuper\n",
    "from feature_extraction.loan_options_maker import LoanOptionsMaker\n",
    "from feature_extraction.loan_struct_reader import LoanStructReader\n",
    "\n",
    "from bayes_opt import BayesianOptimization\n",
    "\n",
    "import matplotlib.pyplot as plt"
   ]
  },
  {
   "cell_type": "code",
   "execution_count": 2,
   "metadata": {},
   "outputs": [],
   "source": [
    "step = 5"
   ]
  },
  {
   "cell_type": "code",
   "execution_count": 3,
   "metadata": {},
   "outputs": [],
   "source": [
    "def iterative_ds(params, X_train, X_test, y_train, y_test, verbose=False):\n",
    "    # initialize model\n",
    "    ss = step\n",
    "    estimator = None\n",
    "    \n",
    "    if 'max_depth' in params: params['max_depth'] = int(params['max_depth'])\n",
    "    if 'num_leaves' in params: params['num_leaves'] = int(params['num_leaves'])\n",
    "    num_boost_round = int(params.pop('num_boost_round', 5))\n",
    "    \n",
    "    train_info = {'train_mae':[], 'test_mae':[]}\n",
    "    \n",
    "    for iteration, x in enumerate(range(0, X_train.shape[0] - ss, ss)):\n",
    "        indices = list(range(x, x + ss))\n",
    "\n",
    "        estimator = lgbm.train(params,\n",
    "                               init_model=estimator,\n",
    "                               train_set=lgbm.Dataset(X_train[indices], y_train[indices]),\n",
    "                               keep_training_booster=True,\n",
    "                               num_boost_round=num_boost_round)\n",
    "\n",
    "        mae = mean_absolute_error(y_test, estimator.predict(X_test))\n",
    "        if iteration % 5 == 0 and verbose:\n",
    "            print('iteration: {} mae: {}'.format(iteration, mae))\n",
    "        \n",
    "        train_info['train_mae'].append(np.mean(np.abs(y_train[:x + ss] - estimator.predict(X_train[:x + ss])) / y_train[:x + ss]))\n",
    "        train_info['test_mae'].append(np.mean(np.abs(y_test - estimator.predict(X_test)) / y_test))\n",
    "    return train_info"
   ]
  },
  {
   "cell_type": "code",
   "execution_count": 4,
   "metadata": {},
   "outputs": [],
   "source": [
    "ROOT = os.path.dirname(os.getcwd())\n",
    "FILES_DIR = os.path.join(ROOT, \"json_augmented\")\n",
    "MARKUPFILE = os.path.join(FILES_DIR, r\"markupdict0-2000.pckl\")"
   ]
  },
  {
   "cell_type": "code",
   "execution_count": 5,
   "metadata": {},
   "outputs": [],
   "source": [
    "# read etalon\n",
    "\n",
    "json_example_path = os.path.join(ROOT, r\"json_real\", r\"sample_1.json\")\n",
    "struct, original_options = LoanStructReader().Read(json_example_path, returnOptions=True)"
   ]
  },
  {
   "cell_type": "code",
   "execution_count": 6,
   "metadata": {},
   "outputs": [],
   "source": [
    "# generate fake train_data\n",
    "\n",
    "markuper = LoanMarkuper()\n",
    "optionsMaker = LoanOptionsMaker()\n",
    "markupdict = {}\n",
    "for i in range(0, 300):\n",
    "    options = optionsMaker.Make(original_options)\n",
    "\n",
    "    js = LoanConcatenator(struct, options, {}).Parse()\n",
    "    name = \"sample_{}.json\".format(i)\n",
    "    LoanConcatenator.Save(js, os.path.join(ROOT, r\"json_augmented\", name))\n",
    "    markupdict[name] = markuper.MarkupLoan(js)"
   ]
  },
  {
   "cell_type": "code",
   "execution_count": 7,
   "metadata": {},
   "outputs": [],
   "source": [
    "# markup generated train_data\n",
    "\n",
    "X, y = [], []\n",
    "for file in os.listdir(FILES_DIR):\n",
    "    if file.find(\"markupdict\") != -1:\n",
    "        with open(os.path.join(FILES_DIR, file), 'rb') as f:\n",
    "            markupdict = pickle.load(f)\n",
    "    else:\n",
    "        _, options = loan_struct_reader.LoanStructReader().Read(os.path.join(FILES_DIR, file), returnOptions=True)\n",
    "        X.append(options['irOptions_curve'])\n",
    "        y.append(markupdict[file])\n",
    "X = np.array(X)\n",
    "y = np.array(y)\n",
    "\n",
    "X_train, X_test, y_train, y_test = train_test_split(X, y, test_size=0.33)"
   ]
  },
  {
   "cell_type": "markdown",
   "metadata": {},
   "source": [
    "# Подбор гиперпараметров"
   ]
  },
  {
   "cell_type": "code",
   "execution_count": 8,
   "metadata": {},
   "outputs": [],
   "source": [
    "base_params = {\n",
    "    'boosting_type': 'gbdt',\n",
    "    'objective': 'regression',\n",
    "    'metric': 'mae',\n",
    "    'is_unbalance': False,\n",
    "    'seed': 42,\n",
    "    'verbosity': -1,\n",
    "    'min_data': 1,\n",
    "    'min_data_in_bin': 1\n",
    "}"
   ]
  },
  {
   "cell_type": "code",
   "execution_count": 9,
   "metadata": {},
   "outputs": [
    {
     "name": "stdout",
     "output_type": "stream",
     "text": [
      "|   iter    |  target   | colsam... | learni... | max_depth | num_bo... | num_le... | subsample |\n",
      "-------------------------------------------------------------------------------------------------\n",
      "| \u001b[0m 1       \u001b[0m | \u001b[0m-0.02625 \u001b[0m | \u001b[0m 0.8834  \u001b[0m | \u001b[0m 0.363   \u001b[0m | \u001b[0m 2.0     \u001b[0m | \u001b[0m 9.651   \u001b[0m | \u001b[0m 27.08   \u001b[0m | \u001b[0m 0.8185  \u001b[0m |\n",
      "| \u001b[95m 2       \u001b[0m | \u001b[95m-0.01772 \u001b[0m | \u001b[95m 0.8373  \u001b[0m | \u001b[95m 0.1793  \u001b[0m | \u001b[95m 3.19    \u001b[0m | \u001b[95m 14.85   \u001b[0m | \u001b[95m 32.8    \u001b[0m | \u001b[95m 0.937   \u001b[0m |\n",
      "| \u001b[95m 3       \u001b[0m | \u001b[95m-0.008391\u001b[0m | \u001b[95m 0.8409  \u001b[0m | \u001b[95m 0.4403  \u001b[0m | \u001b[95m 2.082   \u001b[0m | \u001b[95m 17.75   \u001b[0m | \u001b[95m 32.76   \u001b[0m | \u001b[95m 0.9117  \u001b[0m |\n",
      "| \u001b[0m 4       \u001b[0m | \u001b[0m-0.03169 \u001b[0m | \u001b[0m 0.8281  \u001b[0m | \u001b[0m 0.1071  \u001b[0m | \u001b[0m 4.402   \u001b[0m | \u001b[0m 24.3    \u001b[0m | \u001b[0m 30.58   \u001b[0m | \u001b[0m 0.9385  \u001b[0m |\n",
      "| \u001b[0m 5       \u001b[0m | \u001b[0m-0.01593 \u001b[0m | \u001b[0m 0.9753  \u001b[0m | \u001b[0m 0.4484  \u001b[0m | \u001b[0m 2.255   \u001b[0m | \u001b[0m 3.859   \u001b[0m | \u001b[0m 27.57   \u001b[0m | \u001b[0m 0.9756  \u001b[0m |\n",
      "| \u001b[0m 6       \u001b[0m | \u001b[0m-0.01985 \u001b[0m | \u001b[0m 0.8197  \u001b[0m | \u001b[0m 0.2163  \u001b[0m | \u001b[0m 4.874   \u001b[0m | \u001b[0m 14.73   \u001b[0m | \u001b[0m 38.53   \u001b[0m | \u001b[0m 0.8631  \u001b[0m |\n",
      "| \u001b[0m 7       \u001b[0m | \u001b[0m-0.01987 \u001b[0m | \u001b[0m 0.9373  \u001b[0m | \u001b[0m 0.419   \u001b[0m | \u001b[0m 2.055   \u001b[0m | \u001b[0m 19.5    \u001b[0m | \u001b[0m 44.77   \u001b[0m | \u001b[0m 0.9496  \u001b[0m |\n",
      "| \u001b[0m 8       \u001b[0m | \u001b[0m-0.0192  \u001b[0m | \u001b[0m 0.8561  \u001b[0m | \u001b[0m 0.3967  \u001b[0m | \u001b[0m 2.31    \u001b[0m | \u001b[0m 12.85   \u001b[0m | \u001b[0m 43.08   \u001b[0m | \u001b[0m 0.8587  \u001b[0m |\n",
      "| \u001b[95m 9       \u001b[0m | \u001b[95m-0.005119\u001b[0m | \u001b[95m 0.8576  \u001b[0m | \u001b[95m 0.07371 \u001b[0m | \u001b[95m 2.058   \u001b[0m | \u001b[95m 17.93   \u001b[0m | \u001b[95m 28.44   \u001b[0m | \u001b[95m 0.8531  \u001b[0m |\n",
      "| \u001b[95m 10      \u001b[0m | \u001b[95m-0.000884\u001b[0m | \u001b[95m 0.8983  \u001b[0m | \u001b[95m 0.03615 \u001b[0m | \u001b[95m 3.722   \u001b[0m | \u001b[95m 6.228   \u001b[0m | \u001b[95m 36.38   \u001b[0m | \u001b[95m 0.94    \u001b[0m |\n",
      "| \u001b[0m 11      \u001b[0m | \u001b[0m-0.002907\u001b[0m | \u001b[0m 0.9621  \u001b[0m | \u001b[0m 0.151   \u001b[0m | \u001b[0m 3.217   \u001b[0m | \u001b[0m 4.465   \u001b[0m | \u001b[0m 37.0    \u001b[0m | \u001b[0m 0.9168  \u001b[0m |\n",
      "| \u001b[0m 12      \u001b[0m | \u001b[0m-0.000942\u001b[0m | \u001b[0m 0.8     \u001b[0m | \u001b[0m 0.01    \u001b[0m | \u001b[0m 5.0     \u001b[0m | \u001b[0m 6.241   \u001b[0m | \u001b[0m 39.15   \u001b[0m | \u001b[0m 1.0     \u001b[0m |\n",
      "| \u001b[95m 13      \u001b[0m | \u001b[95m-0.000883\u001b[0m | \u001b[95m 0.8     \u001b[0m | \u001b[95m 0.01    \u001b[0m | \u001b[95m 2.0     \u001b[0m | \u001b[95m 7.132   \u001b[0m | \u001b[95m 39.16   \u001b[0m | \u001b[95m 0.8     \u001b[0m |\n",
      "| \u001b[0m 14      \u001b[0m | \u001b[0m-0.001122\u001b[0m | \u001b[0m 0.8     \u001b[0m | \u001b[0m 0.01    \u001b[0m | \u001b[0m 2.073   \u001b[0m | \u001b[0m 3.265   \u001b[0m | \u001b[0m 43.48   \u001b[0m | \u001b[0m 0.8     \u001b[0m |\n",
      "| \u001b[0m 15      \u001b[0m | \u001b[0m-0.4222  \u001b[0m | \u001b[0m 1.0     \u001b[0m | \u001b[0m 0.5     \u001b[0m | \u001b[0m 5.0     \u001b[0m | \u001b[0m 5.709   \u001b[0m | \u001b[0m 45.0    \u001b[0m | \u001b[0m 1.0     \u001b[0m |\n",
      "| \u001b[0m 16      \u001b[0m | \u001b[0m-0.006401\u001b[0m | \u001b[0m 0.9471  \u001b[0m | \u001b[0m 0.4854  \u001b[0m | \u001b[0m 2.087   \u001b[0m | \u001b[0m 3.226   \u001b[0m | \u001b[0m 40.04   \u001b[0m | \u001b[0m 0.8301  \u001b[0m |\n",
      "| \u001b[0m 17      \u001b[0m | \u001b[0m-0.04    \u001b[0m | \u001b[0m 0.8     \u001b[0m | \u001b[0m 0.5     \u001b[0m | \u001b[0m 4.438   \u001b[0m | \u001b[0m 10.18   \u001b[0m | \u001b[0m 37.5    \u001b[0m | \u001b[0m 1.0     \u001b[0m |\n",
      "| \u001b[0m 18      \u001b[0m | \u001b[0m-0.219   \u001b[0m | \u001b[0m 1.0     \u001b[0m | \u001b[0m 0.5     \u001b[0m | \u001b[0m 5.0     \u001b[0m | \u001b[0m 14.92   \u001b[0m | \u001b[0m 28.28   \u001b[0m | \u001b[0m 0.9554  \u001b[0m |\n",
      "| \u001b[95m 19      \u001b[0m | \u001b[95m-0.000761\u001b[0m | \u001b[95m 0.8     \u001b[0m | \u001b[95m 0.01    \u001b[0m | \u001b[95m 2.0     \u001b[0m | \u001b[95m 20.65   \u001b[0m | \u001b[95m 30.36   \u001b[0m | \u001b[95m 0.8     \u001b[0m |\n",
      "| \u001b[95m 20      \u001b[0m | \u001b[95m-0.000758\u001b[0m | \u001b[95m 0.8     \u001b[0m | \u001b[95m 0.01    \u001b[0m | \u001b[95m 2.0     \u001b[0m | \u001b[95m 21.25   \u001b[0m | \u001b[95m 26.57   \u001b[0m | \u001b[95m 0.8     \u001b[0m |\n",
      "=================================================================================================\n"
     ]
    }
   ],
   "source": [
    "def modelFitter(num_boost_round, learning_rate, colsample_bytree, subsample, max_depth, num_leaves):   \n",
    "    params = copy.copy(base_params)\n",
    "    params['num_boost_round'] = num_boost_round\n",
    "    params['learning_rate'] = learning_rate\n",
    "    params['colsample_bytree'] = colsample_bytree\n",
    "    params['subsample'] = subsample\n",
    "    params['max_depth'] = max_depth\n",
    "    params['num_leaves'] = num_leaves\n",
    "    \n",
    "    info = iterative_ds(params, X_train, X_test, y_train, y_test, verbose=False)\n",
    "\n",
    "    return -info['test_mae'][-1]\n",
    "\n",
    "# Bounded region of parameter space\n",
    "pbounds = {'num_boost_round': (3, 25), 'learning_rate': (0.01, 0.5), 'colsample_bytree': (0.8, 1.0), 'subsample': (0.8,1.0), 'max_depth': (2,5), 'num_leaves': (24, 45)}\n",
    "\n",
    "optimizer = BayesianOptimization(\n",
    "    f=modelFitter,\n",
    "    pbounds=pbounds,\n",
    "    random_state=1)\n",
    "\n",
    "optimizer.maximize(init_points=10,n_iter=10)  #n_iter=bayesian, init_points=random"
   ]
  },
  {
   "cell_type": "code",
   "execution_count": 10,
   "metadata": {},
   "outputs": [
    {
     "data": {
      "text/plain": [
       "{'colsample_bytree': 0.8,\n",
       " 'learning_rate': 0.01,\n",
       " 'max_depth': 2.0,\n",
       " 'num_boost_round': 21.253363387695376,\n",
       " 'num_leaves': 26.572531081395677,\n",
       " 'subsample': 0.8}"
      ]
     },
     "execution_count": 10,
     "metadata": {},
     "output_type": "execute_result"
    }
   ],
   "source": [
    "optimizer.max['params']"
   ]
  },
  {
   "cell_type": "markdown",
   "metadata": {},
   "source": [
    "# Обучение лучшей модели."
   ]
  },
  {
   "cell_type": "code",
   "execution_count": 11,
   "metadata": {},
   "outputs": [
    {
     "name": "stdout",
     "output_type": "stream",
     "text": [
      "iteration: 0 mae: 161180.6368285705\n",
      "iteration: 5 mae: 122553.92805605104\n",
      "iteration: 10 mae: 118036.1645038149\n",
      "iteration: 15 mae: 101097.15533205912\n",
      "iteration: 20 mae: 90609.6723934248\n",
      "iteration: 25 mae: 79593.77875640552\n",
      "iteration: 30 mae: 78728.44426727295\n",
      "iteration: 35 mae: 73506.26467152844\n"
     ]
    }
   ],
   "source": [
    "# make iterative learning\n",
    "\n",
    "optim_params = copy.copy(base_params)\n",
    "optim_params.update(optimizer.max['params'])\n",
    "\n",
    "# works\n",
    "train_info = iterative_ds(optim_params, X_train, X_test, y_train, y_test, verbose=True)"
   ]
  },
  {
   "cell_type": "code",
   "execution_count": 12,
   "metadata": {},
   "outputs": [
    {
     "data": {
      "image/png": "[encoded data removed]",
      "text/plain": [
       "<Figure size 432x288 with 1 Axes>"
      ]
     },
     "metadata": {
      "needs_background": "light"
     },
     "output_type": "display_data"
    }
   ],
   "source": [
    "plt.plot(np.arange(len(train_info['train_mae'])) * step, train_info['train_mae'], label='train_mae')\n",
    "plt.plot(np.arange(len(train_info['test_mae'])) * step, train_info['test_mae'], label='test_mae')\n",
    "plt.legend()\n",
    "plt.grid()"
   ]
  },
  {
   "cell_type": "code",
   "execution_count": null,
   "metadata": {},
   "outputs": [],
   "source": []
  },
  {
   "cell_type": "code",
   "execution_count": null,
   "metadata": {},
   "outputs": [],
   "source": []
  }
 ],
 "metadata": {
  "kernelspec": {
   "display_name": "Python 3",
   "language": "python",
   "name": "python3"
  },
  "language_info": {
   "codemirror_mode": {
    "name": "ipython",
    "version": 3
   },
   "file_extension": ".py",
   "mimetype": "text/x-python",
   "name": "python",
   "nbconvert_exporter": "python",
   "pygments_lexer": "ipython3",
   "version": "3.6.7"
  }
 },
 "nbformat": 4,
 "nbformat_minor": 4
}
